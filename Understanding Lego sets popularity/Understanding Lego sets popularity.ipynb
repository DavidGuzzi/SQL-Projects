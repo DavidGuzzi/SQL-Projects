{
 "cells": [
  {
   "cell_type": "markdown",
   "id": "f8b70d12",
   "metadata": {},
   "source": [
    "# Understanding Lego sets popularity\n",
    "\n",
    "## 📖 Background\n",
    "You recently applied to work as a data analyst intern at the famous **Lego Group in Denmark**. As part of the job interview process, you received the following take-home assignment: *You are asked to use the provided dataset to understand the popularity of different Lego sets and themes. The idea is to become familiarized with the data to be ready for an interview with a business stakeholder.*"
   ]
  },
  {
   "cell_type": "markdown",
   "id": "be11a2d5-f944-4ee8-8638-a5c965ed632e",
   "metadata": {},
   "source": [
    "![lego bricks](lego%20bricks.jpg)\n"
   ]
  },
  {
   "cell_type": "markdown",
   "id": "6c0744d0",
   "metadata": {},
   "source": [
    "## 💪 Challenge\n",
    "By utilizing PostgreSQL and Jupyter Notebook, we will respond to the following inquiries:\n",
    "\n",
    "1. What is the average number of Lego sets released per year?\n",
    "2. What is the average number of Lego parts per year?\n",
    "3. Create a visualization for item 2.\n",
    "4. What are the 5 most popular colors used in Lego parts?\n",
    "5. What proportion of Lego parts are transparent?\n",
    "6. What are the 5 rarest lego bricks?\n",
    "7. Summarize your findings."
   ]
  },
  {
   "cell_type": "markdown",
   "id": "bb4cd736",
   "metadata": {},
   "source": [
    "## 💾 The data\n",
    "\n",
    "#### You received access to a database with the following tables. You can also see above a visualization of how the tables are related to each other:\n",
    "\n",
    "#### inventory_parts\n",
    "- \"inventory_id\" - id of the inventory the part is in (as in the inventories table)\n",
    "- \"part_num\" - unique id for the part (as in the parts table)\n",
    "- \"color_id\" - id of the color\n",
    "- \"quantity\" - the number of copies of the part included in the set\n",
    "- \"is_spare\" - whether or not it is a spare part\n",
    "\n",
    "#### parts\n",
    "- \"part_num\" - unique id for the part (as in the inventory_parts table)\n",
    "- \"name\" - name of the part\n",
    "- \"part_cat_id\" - part category id (as in part_catagories table)\n",
    "\n",
    "#### part_categories\n",
    "- \"id\" - part category id (as in parts table)\n",
    "- \"name\" - name of the category the part belongs to\n",
    "\n",
    "#### colors\n",
    "- \"id\" - id of the color (as in inventory_parts table)\n",
    "- \"name\" - color name\n",
    "- \"rgb\" - rgb code of the color\n",
    "- \"is_trans\" - whether or not the part is transparent/translucent\n",
    "\n",
    "#### inventories\n",
    "- \"id\" - id of the inventory the part is in (as in the inventory_sets and inventory_parts tables)\n",
    "- \"version\" - version number\n",
    "- \"set_num\" - set number (as in sets table)\n",
    "\n",
    "#### inventory_sets\n",
    "- \"inventory_id\" - id of the inventory the part is in (as in the inventories table)\n",
    "- \"set_num\" - set number (as in sets table)\n",
    "- \"quantity\" - the quantity of sets included\n",
    "\n",
    "#### sets\n",
    "- \"set_num\" - unique set id (as in inventory_sets and inventories tables)\n",
    "- \"name\" - the name of the set\n",
    "- \"year\" - the year the set was published\n",
    "- \"theme_id\" - the id of the theme the set belongs to (as in themes table)\n",
    "- num-parts - the number of parts in the set\n",
    "\n",
    "#### themes\n",
    "- \"id\" - the id of the theme (as in the sets table)\n",
    "- \"name\" - the name of the theme\n",
    "- \"parent_id\" - the id of the larger theme, if there is one\n",
    "\n",
    "\n",
    "***Acknowledgments**: [LEGO Database](https://rebrickable.com/downloads)"
   ]
  },
  {
   "cell_type": "markdown",
   "id": "3d4f7c20-c282-421d-94d6-6cd068e732bd",
   "metadata": {},
   "source": [
    "![erd](data/lego_erd.png)"
   ]
  },
  {
   "cell_type": "markdown",
   "id": "811d177f-2331-43c1-bef6-ab513dea4f5b",
   "metadata": {},
   "source": [
    "## Before answering the posed questions, let's examine the contents of each of the tables that make up this dataset."
   ]
  },
  {
   "cell_type": "code",
   "execution_count": 13,
   "id": "c6442f6c-8043-4517-8f91-a07eb596cc71",
   "metadata": {
    "customType": "sql",
    "dataFrameVariableName": "inventory_sets",
    "executionTime": 1536,
    "initial": false,
    "integrationId": "fe6a1b73-7874-4e69-b6fb-fe69bb8b4667",
    "lastSuccessfullyExecutedCode": "SELECT *\nFROM inventory_sets\nLIMIT 2;"
   },
   "outputs": [
    {
     "data": {
      "application/com.datacamp.data-table.v1+json": {
       "table": {
        "data": [
         {
          "index": 0,
          "inventory_id": 35,
          "quantity": 1,
          "set_num": "75911-1"
         },
         {
          "index": 1,
          "inventory_id": 35,
          "quantity": 1,
          "set_num": "75912-1"
         }
        ],
        "schema": {
         "fields": [
          {
           "name": "index",
           "type": "integer"
          },
          {
           "name": "inventory_id",
           "type": "integer"
          },
          {
           "name": "set_num",
           "type": "string"
          },
          {
           "name": "quantity",
           "type": "integer"
          }
         ],
         "pandas_version": "1.4.0",
         "primaryKey": [
          "index"
         ]
        }
       },
       "total_rows": 2,
       "truncation_type": null
      },
      "text/html": [
       "<div>\n",
       "<style scoped>\n",
       "    .dataframe tbody tr th:only-of-type {\n",
       "        vertical-align: middle;\n",
       "    }\n",
       "\n",
       "    .dataframe tbody tr th {\n",
       "        vertical-align: top;\n",
       "    }\n",
       "\n",
       "    .dataframe thead th {\n",
       "        text-align: right;\n",
       "    }\n",
       "</style>\n",
       "<table border=\"1\" class=\"dataframe\">\n",
       "  <thead>\n",
       "    <tr style=\"text-align: right;\">\n",
       "      <th></th>\n",
       "      <th>inventory_id</th>\n",
       "      <th>set_num</th>\n",
       "      <th>quantity</th>\n",
       "    </tr>\n",
       "  </thead>\n",
       "  <tbody>\n",
       "    <tr>\n",
       "      <th>0</th>\n",
       "      <td>35</td>\n",
       "      <td>75911-1</td>\n",
       "      <td>1</td>\n",
       "    </tr>\n",
       "    <tr>\n",
       "      <th>1</th>\n",
       "      <td>35</td>\n",
       "      <td>75912-1</td>\n",
       "      <td>1</td>\n",
       "    </tr>\n",
       "  </tbody>\n",
       "</table>\n",
       "</div>"
      ],
      "text/plain": [
       "   inventory_id  set_num  quantity\n",
       "0            35  75911-1         1\n",
       "1            35  75912-1         1"
      ]
     },
     "execution_count": 13,
     "metadata": {},
     "output_type": "execute_result"
    }
   ],
   "source": [
    "SELECT *\n",
    "FROM inventory_sets\n",
    "LIMIT 2;"
   ]
  },
  {
   "cell_type": "code",
   "execution_count": 14,
   "id": "4f51e5ec-04d4-4c03-ba04-db657ba0f5bd",
   "metadata": {
    "customType": "sql",
    "dataFrameVariableName": "inventories",
    "executionTime": 1802,
    "initial": false,
    "integrationId": "fe6a1b73-7874-4e69-b6fb-fe69bb8b4667",
    "lastSuccessfullyExecutedCode": "SELECT *\nFROM inventories\nLIMIT 2;"
   },
   "outputs": [
    {
     "data": {
      "application/com.datacamp.data-table.v1+json": {
       "table": {
        "data": [
         {
          "id": 1,
          "index": 0,
          "set_num": "7922-1",
          "version": 1
         },
         {
          "id": 3,
          "index": 1,
          "set_num": "3931-1",
          "version": 1
         }
        ],
        "schema": {
         "fields": [
          {
           "name": "index",
           "type": "integer"
          },
          {
           "name": "id",
           "type": "integer"
          },
          {
           "name": "version",
           "type": "integer"
          },
          {
           "name": "set_num",
           "type": "string"
          }
         ],
         "pandas_version": "1.4.0",
         "primaryKey": [
          "index"
         ]
        }
       },
       "total_rows": 2,
       "truncation_type": null
      },
      "text/html": [
       "<div>\n",
       "<style scoped>\n",
       "    .dataframe tbody tr th:only-of-type {\n",
       "        vertical-align: middle;\n",
       "    }\n",
       "\n",
       "    .dataframe tbody tr th {\n",
       "        vertical-align: top;\n",
       "    }\n",
       "\n",
       "    .dataframe thead th {\n",
       "        text-align: right;\n",
       "    }\n",
       "</style>\n",
       "<table border=\"1\" class=\"dataframe\">\n",
       "  <thead>\n",
       "    <tr style=\"text-align: right;\">\n",
       "      <th></th>\n",
       "      <th>id</th>\n",
       "      <th>version</th>\n",
       "      <th>set_num</th>\n",
       "    </tr>\n",
       "  </thead>\n",
       "  <tbody>\n",
       "    <tr>\n",
       "      <th>0</th>\n",
       "      <td>1</td>\n",
       "      <td>1</td>\n",
       "      <td>7922-1</td>\n",
       "    </tr>\n",
       "    <tr>\n",
       "      <th>1</th>\n",
       "      <td>3</td>\n",
       "      <td>1</td>\n",
       "      <td>3931-1</td>\n",
       "    </tr>\n",
       "  </tbody>\n",
       "</table>\n",
       "</div>"
      ],
      "text/plain": [
       "   id  version set_num\n",
       "0   1        1  7922-1\n",
       "1   3        1  3931-1"
      ]
     },
     "execution_count": 14,
     "metadata": {},
     "output_type": "execute_result"
    }
   ],
   "source": [
    "SELECT *\n",
    "FROM inventories\n",
    "LIMIT 2;"
   ]
  },
  {
   "cell_type": "code",
   "execution_count": 15,
   "id": "b6d79858-7315-4b01-8bc2-34cc3e987c24",
   "metadata": {
    "customType": "sql",
    "dataFrameVariableName": "sets",
    "executionTime": 1167,
    "initial": false,
    "integrationId": "fe6a1b73-7874-4e69-b6fb-fe69bb8b4667",
    "lastSuccessfullyExecutedCode": "SELECT *\nFROM sets\nLIMIT 2;"
   },
   "outputs": [
    {
     "data": {
      "application/com.datacamp.data-table.v1+json": {
       "table": {
        "data": [
         {
          "index": 0,
          "name": "Weetabix Castle",
          "num_parts": 471,
          "set_num": "00-1",
          "theme_id": 414,
          "year": 1970
         },
         {
          "index": 1,
          "name": "Town Mini-Figures",
          "num_parts": 12,
          "set_num": "0011-2",
          "theme_id": 84,
          "year": 1978
         }
        ],
        "schema": {
         "fields": [
          {
           "name": "index",
           "type": "integer"
          },
          {
           "name": "set_num",
           "type": "string"
          },
          {
           "name": "name",
           "type": "string"
          },
          {
           "name": "year",
           "type": "integer"
          },
          {
           "name": "theme_id",
           "type": "integer"
          },
          {
           "name": "num_parts",
           "type": "integer"
          }
         ],
         "pandas_version": "1.4.0",
         "primaryKey": [
          "index"
         ]
        }
       },
       "total_rows": 2,
       "truncation_type": null
      },
      "text/html": [
       "<div>\n",
       "<style scoped>\n",
       "    .dataframe tbody tr th:only-of-type {\n",
       "        vertical-align: middle;\n",
       "    }\n",
       "\n",
       "    .dataframe tbody tr th {\n",
       "        vertical-align: top;\n",
       "    }\n",
       "\n",
       "    .dataframe thead th {\n",
       "        text-align: right;\n",
       "    }\n",
       "</style>\n",
       "<table border=\"1\" class=\"dataframe\">\n",
       "  <thead>\n",
       "    <tr style=\"text-align: right;\">\n",
       "      <th></th>\n",
       "      <th>set_num</th>\n",
       "      <th>name</th>\n",
       "      <th>year</th>\n",
       "      <th>theme_id</th>\n",
       "      <th>num_parts</th>\n",
       "    </tr>\n",
       "  </thead>\n",
       "  <tbody>\n",
       "    <tr>\n",
       "      <th>0</th>\n",
       "      <td>00-1</td>\n",
       "      <td>Weetabix Castle</td>\n",
       "      <td>1970</td>\n",
       "      <td>414</td>\n",
       "      <td>471</td>\n",
       "    </tr>\n",
       "    <tr>\n",
       "      <th>1</th>\n",
       "      <td>0011-2</td>\n",
       "      <td>Town Mini-Figures</td>\n",
       "      <td>1978</td>\n",
       "      <td>84</td>\n",
       "      <td>12</td>\n",
       "    </tr>\n",
       "  </tbody>\n",
       "</table>\n",
       "</div>"
      ],
      "text/plain": [
       "  set_num               name  year  theme_id  num_parts\n",
       "0    00-1    Weetabix Castle  1970       414        471\n",
       "1  0011-2  Town Mini-Figures  1978        84         12"
      ]
     },
     "execution_count": 15,
     "metadata": {},
     "output_type": "execute_result"
    }
   ],
   "source": [
    "SELECT *\n",
    "FROM sets\n",
    "LIMIT 2;"
   ]
  },
  {
   "cell_type": "code",
   "execution_count": 16,
   "id": "7f6c5d18-2d68-40c4-bba9-8d946773738e",
   "metadata": {
    "customType": "sql",
    "dataFrameVariableName": "inventory_parts",
    "executionTime": 1398,
    "initial": false,
    "integrationId": "fe6a1b73-7874-4e69-b6fb-fe69bb8b4667",
    "lastSuccessfullyExecutedCode": "SELECT *\nFROM inventory_parts\nLIMIT 2;"
   },
   "outputs": [
    {
     "data": {
      "application/com.datacamp.data-table.v1+json": {
       "table": {
        "data": [
         {
          "color_id": 72,
          "index": 0,
          "inventory_id": 1,
          "is_spare": false,
          "part_num": "48379c01",
          "quantity": 1
         },
         {
          "color_id": 7,
          "index": 1,
          "inventory_id": 1,
          "is_spare": false,
          "part_num": "48395",
          "quantity": 1
         }
        ],
        "schema": {
         "fields": [
          {
           "name": "index",
           "type": "integer"
          },
          {
           "name": "inventory_id",
           "type": "integer"
          },
          {
           "name": "part_num",
           "type": "string"
          },
          {
           "name": "color_id",
           "type": "integer"
          },
          {
           "name": "quantity",
           "type": "integer"
          },
          {
           "name": "is_spare",
           "type": "boolean"
          }
         ],
         "pandas_version": "1.4.0",
         "primaryKey": [
          "index"
         ]
        }
       },
       "total_rows": 2,
       "truncation_type": null
      },
      "text/html": [
       "<div>\n",
       "<style scoped>\n",
       "    .dataframe tbody tr th:only-of-type {\n",
       "        vertical-align: middle;\n",
       "    }\n",
       "\n",
       "    .dataframe tbody tr th {\n",
       "        vertical-align: top;\n",
       "    }\n",
       "\n",
       "    .dataframe thead th {\n",
       "        text-align: right;\n",
       "    }\n",
       "</style>\n",
       "<table border=\"1\" class=\"dataframe\">\n",
       "  <thead>\n",
       "    <tr style=\"text-align: right;\">\n",
       "      <th></th>\n",
       "      <th>inventory_id</th>\n",
       "      <th>part_num</th>\n",
       "      <th>color_id</th>\n",
       "      <th>quantity</th>\n",
       "      <th>is_spare</th>\n",
       "    </tr>\n",
       "  </thead>\n",
       "  <tbody>\n",
       "    <tr>\n",
       "      <th>0</th>\n",
       "      <td>1</td>\n",
       "      <td>48379c01</td>\n",
       "      <td>72</td>\n",
       "      <td>1</td>\n",
       "      <td>False</td>\n",
       "    </tr>\n",
       "    <tr>\n",
       "      <th>1</th>\n",
       "      <td>1</td>\n",
       "      <td>48395</td>\n",
       "      <td>7</td>\n",
       "      <td>1</td>\n",
       "      <td>False</td>\n",
       "    </tr>\n",
       "  </tbody>\n",
       "</table>\n",
       "</div>"
      ],
      "text/plain": [
       "   inventory_id  part_num  color_id  quantity  is_spare\n",
       "0             1  48379c01        72         1     False\n",
       "1             1     48395         7         1     False"
      ]
     },
     "execution_count": 16,
     "metadata": {},
     "output_type": "execute_result"
    }
   ],
   "source": [
    "SELECT *\n",
    "FROM inventory_parts\n",
    "LIMIT 2;"
   ]
  },
  {
   "cell_type": "code",
   "execution_count": 17,
   "id": "0af2019f-b627-496e-b19b-68eabcf62293",
   "metadata": {
    "customType": "sql",
    "dataFrameVariableName": "parts",
    "executionTime": 1549,
    "initial": false,
    "integrationId": "fe6a1b73-7874-4e69-b6fb-fe69bb8b4667",
    "lastSuccessfullyExecutedCode": "SELECT *\nFROM parts\nLIMIT 2;"
   },
   "outputs": [
    {
     "data": {
      "application/com.datacamp.data-table.v1+json": {
       "table": {
        "data": [
         {
          "index": 0,
          "name": "Set 0687 Activity Booklet 1",
          "part_cat_id": 17,
          "part_num": "0687b1"
         },
         {
          "index": 1,
          "name": "Baseplate 16 x 30 with Set 080 Yellow House Print",
          "part_cat_id": 1,
          "part_num": "0901"
         }
        ],
        "schema": {
         "fields": [
          {
           "name": "index",
           "type": "integer"
          },
          {
           "name": "part_num",
           "type": "string"
          },
          {
           "name": "name",
           "type": "string"
          },
          {
           "name": "part_cat_id",
           "type": "integer"
          }
         ],
         "pandas_version": "1.4.0",
         "primaryKey": [
          "index"
         ]
        }
       },
       "total_rows": 2,
       "truncation_type": null
      },
      "text/html": [
       "<div>\n",
       "<style scoped>\n",
       "    .dataframe tbody tr th:only-of-type {\n",
       "        vertical-align: middle;\n",
       "    }\n",
       "\n",
       "    .dataframe tbody tr th {\n",
       "        vertical-align: top;\n",
       "    }\n",
       "\n",
       "    .dataframe thead th {\n",
       "        text-align: right;\n",
       "    }\n",
       "</style>\n",
       "<table border=\"1\" class=\"dataframe\">\n",
       "  <thead>\n",
       "    <tr style=\"text-align: right;\">\n",
       "      <th></th>\n",
       "      <th>part_num</th>\n",
       "      <th>name</th>\n",
       "      <th>part_cat_id</th>\n",
       "    </tr>\n",
       "  </thead>\n",
       "  <tbody>\n",
       "    <tr>\n",
       "      <th>0</th>\n",
       "      <td>0687b1</td>\n",
       "      <td>Set 0687 Activity Booklet 1</td>\n",
       "      <td>17</td>\n",
       "    </tr>\n",
       "    <tr>\n",
       "      <th>1</th>\n",
       "      <td>0901</td>\n",
       "      <td>Baseplate 16 x 30 with Set 080 Yellow House Print</td>\n",
       "      <td>1</td>\n",
       "    </tr>\n",
       "  </tbody>\n",
       "</table>\n",
       "</div>"
      ],
      "text/plain": [
       "  part_num                                               name  part_cat_id\n",
       "0   0687b1                        Set 0687 Activity Booklet 1           17\n",
       "1     0901  Baseplate 16 x 30 with Set 080 Yellow House Print            1"
      ]
     },
     "execution_count": 17,
     "metadata": {},
     "output_type": "execute_result"
    }
   ],
   "source": [
    "SELECT *\n",
    "FROM parts\n",
    "LIMIT 2;"
   ]
  },
  {
   "cell_type": "code",
   "execution_count": 18,
   "id": "4dc3d9d7-7667-4fb4-b42f-42b6bb15a799",
   "metadata": {
    "customType": "sql",
    "dataFrameVariableName": "themes",
    "executionTime": 1206,
    "initial": false,
    "integrationId": "fe6a1b73-7874-4e69-b6fb-fe69bb8b4667",
    "lastSuccessfullyExecutedCode": "SELECT *\nFROM themes\nLIMIT 2;"
   },
   "outputs": [
    {
     "data": {
      "application/com.datacamp.data-table.v1+json": {
       "table": {
        "data": [
         {
          "id": 2,
          "index": 0,
          "name": "Arctic Technic",
          "parent_id": 1
         },
         {
          "id": 3,
          "index": 1,
          "name": "Competition",
          "parent_id": 1
         }
        ],
        "schema": {
         "fields": [
          {
           "name": "index",
           "type": "integer"
          },
          {
           "name": "id",
           "type": "integer"
          },
          {
           "name": "name",
           "type": "string"
          },
          {
           "name": "parent_id",
           "type": "integer"
          }
         ],
         "pandas_version": "1.4.0",
         "primaryKey": [
          "index"
         ]
        }
       },
       "total_rows": 2,
       "truncation_type": null
      },
      "text/html": [
       "<div>\n",
       "<style scoped>\n",
       "    .dataframe tbody tr th:only-of-type {\n",
       "        vertical-align: middle;\n",
       "    }\n",
       "\n",
       "    .dataframe tbody tr th {\n",
       "        vertical-align: top;\n",
       "    }\n",
       "\n",
       "    .dataframe thead th {\n",
       "        text-align: right;\n",
       "    }\n",
       "</style>\n",
       "<table border=\"1\" class=\"dataframe\">\n",
       "  <thead>\n",
       "    <tr style=\"text-align: right;\">\n",
       "      <th></th>\n",
       "      <th>id</th>\n",
       "      <th>name</th>\n",
       "      <th>parent_id</th>\n",
       "    </tr>\n",
       "  </thead>\n",
       "  <tbody>\n",
       "    <tr>\n",
       "      <th>0</th>\n",
       "      <td>2</td>\n",
       "      <td>Arctic Technic</td>\n",
       "      <td>1</td>\n",
       "    </tr>\n",
       "    <tr>\n",
       "      <th>1</th>\n",
       "      <td>3</td>\n",
       "      <td>Competition</td>\n",
       "      <td>1</td>\n",
       "    </tr>\n",
       "  </tbody>\n",
       "</table>\n",
       "</div>"
      ],
      "text/plain": [
       "   id            name  parent_id\n",
       "0   2  Arctic Technic          1\n",
       "1   3     Competition          1"
      ]
     },
     "execution_count": 18,
     "metadata": {},
     "output_type": "execute_result"
    }
   ],
   "source": [
    "SELECT *\n",
    "FROM themes\n",
    "LIMIT 2;"
   ]
  },
  {
   "cell_type": "code",
   "execution_count": 19,
   "id": "4af9cdde-4bbe-4055-be07-445cfd5df7ed",
   "metadata": {
    "customType": "sql",
    "dataFrameVariableName": "part_categories",
    "executionTime": 1326,
    "initial": false,
    "integrationId": "fe6a1b73-7874-4e69-b6fb-fe69bb8b4667",
    "lastSuccessfullyExecutedCode": "SELECT *\nFROM part_categories\nLIMIT 2;"
   },
   "outputs": [
    {
     "data": {
      "application/com.datacamp.data-table.v1+json": {
       "table": {
        "data": [
         {
          "id": 1,
          "index": 0,
          "name": "Baseplates"
         },
         {
          "id": 2,
          "index": 1,
          "name": "Bricks Printed"
         }
        ],
        "schema": {
         "fields": [
          {
           "name": "index",
           "type": "integer"
          },
          {
           "name": "id",
           "type": "integer"
          },
          {
           "name": "name",
           "type": "string"
          }
         ],
         "pandas_version": "1.4.0",
         "primaryKey": [
          "index"
         ]
        }
       },
       "total_rows": 2,
       "truncation_type": null
      },
      "text/html": [
       "<div>\n",
       "<style scoped>\n",
       "    .dataframe tbody tr th:only-of-type {\n",
       "        vertical-align: middle;\n",
       "    }\n",
       "\n",
       "    .dataframe tbody tr th {\n",
       "        vertical-align: top;\n",
       "    }\n",
       "\n",
       "    .dataframe thead th {\n",
       "        text-align: right;\n",
       "    }\n",
       "</style>\n",
       "<table border=\"1\" class=\"dataframe\">\n",
       "  <thead>\n",
       "    <tr style=\"text-align: right;\">\n",
       "      <th></th>\n",
       "      <th>id</th>\n",
       "      <th>name</th>\n",
       "    </tr>\n",
       "  </thead>\n",
       "  <tbody>\n",
       "    <tr>\n",
       "      <th>0</th>\n",
       "      <td>1</td>\n",
       "      <td>Baseplates</td>\n",
       "    </tr>\n",
       "    <tr>\n",
       "      <th>1</th>\n",
       "      <td>2</td>\n",
       "      <td>Bricks Printed</td>\n",
       "    </tr>\n",
       "  </tbody>\n",
       "</table>\n",
       "</div>"
      ],
      "text/plain": [
       "   id            name\n",
       "0   1      Baseplates\n",
       "1   2  Bricks Printed"
      ]
     },
     "execution_count": 19,
     "metadata": {},
     "output_type": "execute_result"
    }
   ],
   "source": [
    "SELECT *\n",
    "FROM part_categories\n",
    "LIMIT 2;"
   ]
  },
  {
   "cell_type": "code",
   "execution_count": 20,
   "id": "0fdb12ff-3027-452d-8cfb-592de7578a9e",
   "metadata": {
    "customType": "sql",
    "dataFrameVariableName": "colors",
    "executionTime": 1170,
    "initial": false,
    "integrationId": "fe6a1b73-7874-4e69-b6fb-fe69bb8b4667",
    "lastSuccessfullyExecutedCode": "SELECT *\nFROM colors\nLIMIT 2;"
   },
   "outputs": [
    {
     "data": {
      "application/com.datacamp.data-table.v1+json": {
       "table": {
        "data": [
         {
          "id": -1,
          "index": 0,
          "is_trans": false,
          "name": "Unknown",
          "rgb": "0033B2"
         },
         {
          "id": 0,
          "index": 1,
          "is_trans": false,
          "name": "Black",
          "rgb": "05131D"
         }
        ],
        "schema": {
         "fields": [
          {
           "name": "index",
           "type": "integer"
          },
          {
           "name": "id",
           "type": "integer"
          },
          {
           "name": "name",
           "type": "string"
          },
          {
           "name": "rgb",
           "type": "string"
          },
          {
           "name": "is_trans",
           "type": "boolean"
          }
         ],
         "pandas_version": "1.4.0",
         "primaryKey": [
          "index"
         ]
        }
       },
       "total_rows": 2,
       "truncation_type": null
      },
      "text/html": [
       "<div>\n",
       "<style scoped>\n",
       "    .dataframe tbody tr th:only-of-type {\n",
       "        vertical-align: middle;\n",
       "    }\n",
       "\n",
       "    .dataframe tbody tr th {\n",
       "        vertical-align: top;\n",
       "    }\n",
       "\n",
       "    .dataframe thead th {\n",
       "        text-align: right;\n",
       "    }\n",
       "</style>\n",
       "<table border=\"1\" class=\"dataframe\">\n",
       "  <thead>\n",
       "    <tr style=\"text-align: right;\">\n",
       "      <th></th>\n",
       "      <th>id</th>\n",
       "      <th>name</th>\n",
       "      <th>rgb</th>\n",
       "      <th>is_trans</th>\n",
       "    </tr>\n",
       "  </thead>\n",
       "  <tbody>\n",
       "    <tr>\n",
       "      <th>0</th>\n",
       "      <td>-1</td>\n",
       "      <td>Unknown</td>\n",
       "      <td>0033B2</td>\n",
       "      <td>False</td>\n",
       "    </tr>\n",
       "    <tr>\n",
       "      <th>1</th>\n",
       "      <td>0</td>\n",
       "      <td>Black</td>\n",
       "      <td>05131D</td>\n",
       "      <td>False</td>\n",
       "    </tr>\n",
       "  </tbody>\n",
       "</table>\n",
       "</div>"
      ],
      "text/plain": [
       "   id     name     rgb  is_trans\n",
       "0  -1  Unknown  0033B2     False\n",
       "1   0    Black  05131D     False"
      ]
     },
     "execution_count": 20,
     "metadata": {},
     "output_type": "execute_result"
    }
   ],
   "source": [
    "SELECT *\n",
    "FROM colors\n",
    "LIMIT 2;"
   ]
  },
  {
   "cell_type": "markdown",
   "id": "949cf11d-3932-42ad-8fac-af3752b1794e",
   "metadata": {},
   "source": [
    "## 1. What is the average number of Lego sets released per year?"
   ]
  },
  {
   "cell_type": "markdown",
   "id": "8c248099-cf23-401d-a384-f2fea4eade84",
   "metadata": {},
   "source": [
    "First, we wonder. How many **unique sets** releases does this dataset have? What is the **temporal range** analyzed?"
   ]
  },
  {
   "cell_type": "code",
   "execution_count": 11,
   "id": "3406764c-9bd8-4af4-a492-aa75f5d4612b",
   "metadata": {
    "customType": "sql",
    "dataFrameVariableName": "df",
    "executionTime": 887,
    "integrationId": "fe6a1b73-7874-4e69-b6fb-fe69bb8b4667",
    "lastSuccessfullyExecutedCode": "SELECT COUNT(set_num) AS total_sets, MIN(year) AS first_year, MAX(year) AS last_year, COUNT(DISTINCT year) AS year\nFROM sets;"
   },
   "outputs": [
    {
     "data": {
      "application/com.datacamp.data-table.v1+json": {
       "table": {
        "data": [
         {
          "first_year": 1950,
          "index": 0,
          "last_year": 2017,
          "total_sets": 11673,
          "year": 66
         }
        ],
        "schema": {
         "fields": [
          {
           "name": "index",
           "type": "integer"
          },
          {
           "name": "total_sets",
           "type": "integer"
          },
          {
           "name": "first_year",
           "type": "integer"
          },
          {
           "name": "last_year",
           "type": "integer"
          },
          {
           "name": "year",
           "type": "integer"
          }
         ],
         "pandas_version": "1.4.0",
         "primaryKey": [
          "index"
         ]
        }
       },
       "total_rows": 1,
       "truncation_type": null
      },
      "text/html": [
       "<div>\n",
       "<style scoped>\n",
       "    .dataframe tbody tr th:only-of-type {\n",
       "        vertical-align: middle;\n",
       "    }\n",
       "\n",
       "    .dataframe tbody tr th {\n",
       "        vertical-align: top;\n",
       "    }\n",
       "\n",
       "    .dataframe thead th {\n",
       "        text-align: right;\n",
       "    }\n",
       "</style>\n",
       "<table border=\"1\" class=\"dataframe\">\n",
       "  <thead>\n",
       "    <tr style=\"text-align: right;\">\n",
       "      <th></th>\n",
       "      <th>total_sets</th>\n",
       "      <th>first_year</th>\n",
       "      <th>last_year</th>\n",
       "      <th>year</th>\n",
       "    </tr>\n",
       "  </thead>\n",
       "  <tbody>\n",
       "    <tr>\n",
       "      <th>0</th>\n",
       "      <td>11673</td>\n",
       "      <td>1950</td>\n",
       "      <td>2017</td>\n",
       "      <td>66</td>\n",
       "    </tr>\n",
       "  </tbody>\n",
       "</table>\n",
       "</div>"
      ],
      "text/plain": [
       "   total_sets  first_year  last_year  year\n",
       "0       11673        1950       2017    66"
      ]
     },
     "execution_count": 11,
     "metadata": {},
     "output_type": "execute_result"
    }
   ],
   "source": [
    "SELECT COUNT(set_num) AS total_sets, MIN(year) AS first_year, MAX(year) AS last_year, COUNT(DISTINCT year) AS year\n",
    "FROM sets;"
   ]
  },
  {
   "cell_type": "markdown",
   "id": "b3a2b958-710b-4187-afc8-2285a5c26c39",
   "metadata": {},
   "source": [
    "The dataset has **11,673** total set releases, with data from the year **1950** to the year **2017** inclusive (66 years of history)."
   ]
  },
  {
   "cell_type": "markdown",
   "id": "8dd02233-e2fd-46f9-841f-c5b51244ac7e",
   "metadata": {},
   "source": [
    "Before presenting an **average of set releases per year**, we will present the **number of set releases per year** to analyze trends, if applicable."
   ]
  },
  {
   "cell_type": "code",
   "execution_count": 52,
   "id": "fb6320ed-59dc-4306-a273-a50c53052183",
   "metadata": {
    "customType": "sql",
    "dataFrameVariableName": "sets_released",
    "executionTime": 1166,
    "initial": false,
    "integrationId": "fe6a1b73-7874-4e69-b6fb-fe69bb8b4667",
    "lastSuccessfullyExecutedCode": "SELECT year, COUNT(set_num) AS sets_released_per_year\nFROM sets\nGROUP BY year\nORDER BY year ASC;"
   },
   "outputs": [
    {
     "data": {
      "application/com.datacamp.data-table.v1+json": {
       "table": {
        "data": [
         {
          "index": 0,
          "sets_released_per_year": 7,
          "year": 1950
         },
         {
          "index": 1,
          "sets_released_per_year": 4,
          "year": 1953
         },
         {
          "index": 2,
          "sets_released_per_year": 14,
          "year": 1954
         },
         {
          "index": 3,
          "sets_released_per_year": 28,
          "year": 1955
         },
         {
          "index": 4,
          "sets_released_per_year": 12,
          "year": 1956
         },
         {
          "index": 5,
          "sets_released_per_year": 21,
          "year": 1957
         },
         {
          "index": 6,
          "sets_released_per_year": 42,
          "year": 1958
         },
         {
          "index": 7,
          "sets_released_per_year": 4,
          "year": 1959
         },
         {
          "index": 8,
          "sets_released_per_year": 3,
          "year": 1960
         },
         {
          "index": 9,
          "sets_released_per_year": 17,
          "year": 1961
         },
         {
          "index": 10,
          "sets_released_per_year": 40,
          "year": 1962
         },
         {
          "index": 11,
          "sets_released_per_year": 18,
          "year": 1963
         },
         {
          "index": 12,
          "sets_released_per_year": 11,
          "year": 1964
         },
         {
          "index": 13,
          "sets_released_per_year": 10,
          "year": 1965
         },
         {
          "index": 14,
          "sets_released_per_year": 89,
          "year": 1966
         },
         {
          "index": 15,
          "sets_released_per_year": 21,
          "year": 1967
         },
         {
          "index": 16,
          "sets_released_per_year": 25,
          "year": 1968
         },
         {
          "index": 17,
          "sets_released_per_year": 69,
          "year": 1969
         },
         {
          "index": 18,
          "sets_released_per_year": 29,
          "year": 1970
         },
         {
          "index": 19,
          "sets_released_per_year": 45,
          "year": 1971
         },
         {
          "index": 20,
          "sets_released_per_year": 38,
          "year": 1972
         },
         {
          "index": 21,
          "sets_released_per_year": 67,
          "year": 1973
         },
         {
          "index": 22,
          "sets_released_per_year": 39,
          "year": 1974
         },
         {
          "index": 23,
          "sets_released_per_year": 31,
          "year": 1975
         },
         {
          "index": 24,
          "sets_released_per_year": 68,
          "year": 1976
         },
         {
          "index": 25,
          "sets_released_per_year": 92,
          "year": 1977
         },
         {
          "index": 26,
          "sets_released_per_year": 73,
          "year": 1978
         },
         {
          "index": 27,
          "sets_released_per_year": 82,
          "year": 1979
         },
         {
          "index": 28,
          "sets_released_per_year": 88,
          "year": 1980
         },
         {
          "index": 29,
          "sets_released_per_year": 79,
          "year": 1981
         },
         {
          "index": 30,
          "sets_released_per_year": 76,
          "year": 1982
         },
         {
          "index": 31,
          "sets_released_per_year": 57,
          "year": 1983
         },
         {
          "index": 32,
          "sets_released_per_year": 76,
          "year": 1984
         },
         {
          "index": 33,
          "sets_released_per_year": 139,
          "year": 1985
         },
         {
          "index": 34,
          "sets_released_per_year": 123,
          "year": 1986
         },
         {
          "index": 35,
          "sets_released_per_year": 209,
          "year": 1987
         },
         {
          "index": 36,
          "sets_released_per_year": 68,
          "year": 1988
         },
         {
          "index": 37,
          "sets_released_per_year": 115,
          "year": 1989
         },
         {
          "index": 38,
          "sets_released_per_year": 85,
          "year": 1990
         },
         {
          "index": 39,
          "sets_released_per_year": 107,
          "year": 1991
         },
         {
          "index": 40,
          "sets_released_per_year": 115,
          "year": 1992
         },
         {
          "index": 41,
          "sets_released_per_year": 111,
          "year": 1993
         },
         {
          "index": 42,
          "sets_released_per_year": 128,
          "year": 1994
         },
         {
          "index": 43,
          "sets_released_per_year": 128,
          "year": 1995
         },
         {
          "index": 44,
          "sets_released_per_year": 144,
          "year": 1996
         },
         {
          "index": 45,
          "sets_released_per_year": 192,
          "year": 1997
         },
         {
          "index": 46,
          "sets_released_per_year": 325,
          "year": 1998
         },
         {
          "index": 47,
          "sets_released_per_year": 300,
          "year": 1999
         },
         {
          "index": 48,
          "sets_released_per_year": 327,
          "year": 2000
         },
         {
          "index": 49,
          "sets_released_per_year": 339,
          "year": 2001
         },
         {
          "index": 50,
          "sets_released_per_year": 447,
          "year": 2002
         },
         {
          "index": 51,
          "sets_released_per_year": 415,
          "year": 2003
         },
         {
          "index": 52,
          "sets_released_per_year": 371,
          "year": 2004
         },
         {
          "index": 53,
          "sets_released_per_year": 330,
          "year": 2005
         },
         {
          "index": 54,
          "sets_released_per_year": 283,
          "year": 2006
         },
         {
          "index": 55,
          "sets_released_per_year": 321,
          "year": 2007
         },
         {
          "index": 56,
          "sets_released_per_year": 349,
          "year": 2008
         },
         {
          "index": 57,
          "sets_released_per_year": 402,
          "year": 2009
         },
         {
          "index": 58,
          "sets_released_per_year": 444,
          "year": 2010
         },
         {
          "index": 59,
          "sets_released_per_year": 503,
          "year": 2011
         },
         {
          "index": 60,
          "sets_released_per_year": 615,
          "year": 2012
         },
         {
          "index": 61,
          "sets_released_per_year": 593,
          "year": 2013
         },
         {
          "index": 62,
          "sets_released_per_year": 713,
          "year": 2014
         },
         {
          "index": 63,
          "sets_released_per_year": 665,
          "year": 2015
         },
         {
          "index": 64,
          "sets_released_per_year": 596,
          "year": 2016
         },
         {
          "index": 65,
          "sets_released_per_year": 296,
          "year": 2017
         }
        ],
        "schema": {
         "fields": [
          {
           "name": "index",
           "type": "integer"
          },
          {
           "name": "year",
           "type": "integer"
          },
          {
           "name": "sets_released_per_year",
           "type": "integer"
          }
         ],
         "pandas_version": "1.4.0",
         "primaryKey": [
          "index"
         ]
        }
       },
       "total_rows": 66,
       "truncation_type": null
      },
      "text/html": [
       "<div>\n",
       "<style scoped>\n",
       "    .dataframe tbody tr th:only-of-type {\n",
       "        vertical-align: middle;\n",
       "    }\n",
       "\n",
       "    .dataframe tbody tr th {\n",
       "        vertical-align: top;\n",
       "    }\n",
       "\n",
       "    .dataframe thead th {\n",
       "        text-align: right;\n",
       "    }\n",
       "</style>\n",
       "<table border=\"1\" class=\"dataframe\">\n",
       "  <thead>\n",
       "    <tr style=\"text-align: right;\">\n",
       "      <th></th>\n",
       "      <th>year</th>\n",
       "      <th>sets_released_per_year</th>\n",
       "    </tr>\n",
       "  </thead>\n",
       "  <tbody>\n",
       "    <tr>\n",
       "      <th>0</th>\n",
       "      <td>1950</td>\n",
       "      <td>7</td>\n",
       "    </tr>\n",
       "    <tr>\n",
       "      <th>1</th>\n",
       "      <td>1953</td>\n",
       "      <td>4</td>\n",
       "    </tr>\n",
       "    <tr>\n",
       "      <th>2</th>\n",
       "      <td>1954</td>\n",
       "      <td>14</td>\n",
       "    </tr>\n",
       "    <tr>\n",
       "      <th>3</th>\n",
       "      <td>1955</td>\n",
       "      <td>28</td>\n",
       "    </tr>\n",
       "    <tr>\n",
       "      <th>4</th>\n",
       "      <td>1956</td>\n",
       "      <td>12</td>\n",
       "    </tr>\n",
       "    <tr>\n",
       "      <th>...</th>\n",
       "      <td>...</td>\n",
       "      <td>...</td>\n",
       "    </tr>\n",
       "    <tr>\n",
       "      <th>61</th>\n",
       "      <td>2013</td>\n",
       "      <td>593</td>\n",
       "    </tr>\n",
       "    <tr>\n",
       "      <th>62</th>\n",
       "      <td>2014</td>\n",
       "      <td>713</td>\n",
       "    </tr>\n",
       "    <tr>\n",
       "      <th>63</th>\n",
       "      <td>2015</td>\n",
       "      <td>665</td>\n",
       "    </tr>\n",
       "    <tr>\n",
       "      <th>64</th>\n",
       "      <td>2016</td>\n",
       "      <td>596</td>\n",
       "    </tr>\n",
       "    <tr>\n",
       "      <th>65</th>\n",
       "      <td>2017</td>\n",
       "      <td>296</td>\n",
       "    </tr>\n",
       "  </tbody>\n",
       "</table>\n",
       "<p>66 rows × 2 columns</p>\n",
       "</div>"
      ],
      "text/plain": [
       "    year  sets_released_per_year\n",
       "0   1950                       7\n",
       "1   1953                       4\n",
       "2   1954                      14\n",
       "3   1955                      28\n",
       "4   1956                      12\n",
       "..   ...                     ...\n",
       "61  2013                     593\n",
       "62  2014                     713\n",
       "63  2015                     665\n",
       "64  2016                     596\n",
       "65  2017                     296\n",
       "\n",
       "[66 rows x 2 columns]"
      ]
     },
     "execution_count": 52,
     "metadata": {},
     "output_type": "execute_result"
    }
   ],
   "source": [
    "SELECT year, COUNT(set_num) AS sets_released_per_year\n",
    "FROM sets\n",
    "GROUP BY year\n",
    "ORDER BY year ASC;"
   ]
  },
  {
   "cell_type": "markdown",
   "id": "208f2d71-acb8-4b2c-b9d3-f053972523f9",
   "metadata": {},
   "source": [
    "**The average of set releases per year is:**"
   ]
  },
  {
   "cell_type": "code",
   "execution_count": 13,
   "id": "f705a0bb-96b2-4bd9-aa81-af26e2a5a705",
   "metadata": {
    "customType": "sql",
    "dataFrameVariableName": "df",
    "executionTime": 1062,
    "initial": false,
    "integrationId": "fe6a1b73-7874-4e69-b6fb-fe69bb8b4667",
    "lastSuccessfullyExecutedCode": "SELECT (COUNT(set_num) / COUNT(DISTINCT year)) AS avg_sets_per_year\nFROM sets;"
   },
   "outputs": [
    {
     "data": {
      "application/com.datacamp.data-table.v1+json": {
       "table": {
        "data": [
         {
          "avg_sets_per_year": 176,
          "index": 0
         }
        ],
        "schema": {
         "fields": [
          {
           "name": "index",
           "type": "integer"
          },
          {
           "name": "avg_sets_per_year",
           "type": "integer"
          }
         ],
         "pandas_version": "1.4.0",
         "primaryKey": [
          "index"
         ]
        }
       },
       "total_rows": 1,
       "truncation_type": null
      },
      "text/html": [
       "<div>\n",
       "<style scoped>\n",
       "    .dataframe tbody tr th:only-of-type {\n",
       "        vertical-align: middle;\n",
       "    }\n",
       "\n",
       "    .dataframe tbody tr th {\n",
       "        vertical-align: top;\n",
       "    }\n",
       "\n",
       "    .dataframe thead th {\n",
       "        text-align: right;\n",
       "    }\n",
       "</style>\n",
       "<table border=\"1\" class=\"dataframe\">\n",
       "  <thead>\n",
       "    <tr style=\"text-align: right;\">\n",
       "      <th></th>\n",
       "      <th>avg_sets_per_year</th>\n",
       "    </tr>\n",
       "  </thead>\n",
       "  <tbody>\n",
       "    <tr>\n",
       "      <th>0</th>\n",
       "      <td>176</td>\n",
       "    </tr>\n",
       "  </tbody>\n",
       "</table>\n",
       "</div>"
      ],
      "text/plain": [
       "   avg_sets_per_year\n",
       "0                176"
      ]
     },
     "execution_count": 13,
     "metadata": {},
     "output_type": "execute_result"
    }
   ],
   "source": [
    "SELECT (COUNT(set_num) / COUNT(DISTINCT year)) AS avg_sets_per_year\n",
    "FROM sets;"
   ]
  },
  {
   "cell_type": "markdown",
   "id": "f6e18645-da13-4408-86bb-102fe30d8d8d",
   "metadata": {},
   "source": [
    "However, given the large volume of sets released in recent years, **the previous average is not consistent**. If you want to know the **average set releases for a time range different than 1950 to 2017**, you can consider the following:"
   ]
  },
  {
   "cell_type": "code",
   "execution_count": 66,
   "id": "2ebb3632-89b5-4e13-99a8-469799373e25",
   "metadata": {
    "customType": "sql",
    "dataFrameVariableName": "df",
    "executionTime": 1157,
    "initial": false,
    "integrationId": "fe6a1b73-7874-4e69-b6fb-fe69bb8b4667",
    "lastSuccessfullyExecutedCode": "WITH sets_released AS (\nSELECT year, COUNT(set_num) as sets_released_per_year\nFROM sets\nGROUP BY year\nORDER BY YEAR ASC\n    )\n\nSELECT year,\n    sets_released_per_year,\n    ROUND(AVG(sets_released_per_year) OVER (ORDER BY year\n                       ROWS BETWEEN 2 preceding  AND current row),1) AS moving_3_year_average\n\nFROM sets_released;"
   },
   "outputs": [
    {
     "data": {
      "application/com.datacamp.data-table.v1+json": {
       "table": {
        "data": [
         {
          "index": 0,
          "moving_3_year_average": 7,
          "sets_released_per_year": 7,
          "year": 1950
         },
         {
          "index": 1,
          "moving_3_year_average": 5.5,
          "sets_released_per_year": 4,
          "year": 1953
         },
         {
          "index": 2,
          "moving_3_year_average": 8.3,
          "sets_released_per_year": 14,
          "year": 1954
         },
         {
          "index": 3,
          "moving_3_year_average": 15.3,
          "sets_released_per_year": 28,
          "year": 1955
         },
         {
          "index": 4,
          "moving_3_year_average": 18,
          "sets_released_per_year": 12,
          "year": 1956
         },
         {
          "index": 5,
          "moving_3_year_average": 20.3,
          "sets_released_per_year": 21,
          "year": 1957
         },
         {
          "index": 6,
          "moving_3_year_average": 25,
          "sets_released_per_year": 42,
          "year": 1958
         },
         {
          "index": 7,
          "moving_3_year_average": 22.3,
          "sets_released_per_year": 4,
          "year": 1959
         },
         {
          "index": 8,
          "moving_3_year_average": 16.3,
          "sets_released_per_year": 3,
          "year": 1960
         },
         {
          "index": 9,
          "moving_3_year_average": 8,
          "sets_released_per_year": 17,
          "year": 1961
         },
         {
          "index": 10,
          "moving_3_year_average": 20,
          "sets_released_per_year": 40,
          "year": 1962
         },
         {
          "index": 11,
          "moving_3_year_average": 25,
          "sets_released_per_year": 18,
          "year": 1963
         },
         {
          "index": 12,
          "moving_3_year_average": 23,
          "sets_released_per_year": 11,
          "year": 1964
         },
         {
          "index": 13,
          "moving_3_year_average": 13,
          "sets_released_per_year": 10,
          "year": 1965
         },
         {
          "index": 14,
          "moving_3_year_average": 36.7,
          "sets_released_per_year": 89,
          "year": 1966
         },
         {
          "index": 15,
          "moving_3_year_average": 40,
          "sets_released_per_year": 21,
          "year": 1967
         },
         {
          "index": 16,
          "moving_3_year_average": 45,
          "sets_released_per_year": 25,
          "year": 1968
         },
         {
          "index": 17,
          "moving_3_year_average": 38.3,
          "sets_released_per_year": 69,
          "year": 1969
         },
         {
          "index": 18,
          "moving_3_year_average": 41,
          "sets_released_per_year": 29,
          "year": 1970
         },
         {
          "index": 19,
          "moving_3_year_average": 47.7,
          "sets_released_per_year": 45,
          "year": 1971
         },
         {
          "index": 20,
          "moving_3_year_average": 37.3,
          "sets_released_per_year": 38,
          "year": 1972
         },
         {
          "index": 21,
          "moving_3_year_average": 50,
          "sets_released_per_year": 67,
          "year": 1973
         },
         {
          "index": 22,
          "moving_3_year_average": 48,
          "sets_released_per_year": 39,
          "year": 1974
         },
         {
          "index": 23,
          "moving_3_year_average": 45.7,
          "sets_released_per_year": 31,
          "year": 1975
         },
         {
          "index": 24,
          "moving_3_year_average": 46,
          "sets_released_per_year": 68,
          "year": 1976
         },
         {
          "index": 25,
          "moving_3_year_average": 63.7,
          "sets_released_per_year": 92,
          "year": 1977
         },
         {
          "index": 26,
          "moving_3_year_average": 77.7,
          "sets_released_per_year": 73,
          "year": 1978
         },
         {
          "index": 27,
          "moving_3_year_average": 82.3,
          "sets_released_per_year": 82,
          "year": 1979
         },
         {
          "index": 28,
          "moving_3_year_average": 81,
          "sets_released_per_year": 88,
          "year": 1980
         },
         {
          "index": 29,
          "moving_3_year_average": 83,
          "sets_released_per_year": 79,
          "year": 1981
         },
         {
          "index": 30,
          "moving_3_year_average": 81,
          "sets_released_per_year": 76,
          "year": 1982
         },
         {
          "index": 31,
          "moving_3_year_average": 70.7,
          "sets_released_per_year": 57,
          "year": 1983
         },
         {
          "index": 32,
          "moving_3_year_average": 69.7,
          "sets_released_per_year": 76,
          "year": 1984
         },
         {
          "index": 33,
          "moving_3_year_average": 90.7,
          "sets_released_per_year": 139,
          "year": 1985
         },
         {
          "index": 34,
          "moving_3_year_average": 112.7,
          "sets_released_per_year": 123,
          "year": 1986
         },
         {
          "index": 35,
          "moving_3_year_average": 157,
          "sets_released_per_year": 209,
          "year": 1987
         },
         {
          "index": 36,
          "moving_3_year_average": 133.3,
          "sets_released_per_year": 68,
          "year": 1988
         },
         {
          "index": 37,
          "moving_3_year_average": 130.7,
          "sets_released_per_year": 115,
          "year": 1989
         },
         {
          "index": 38,
          "moving_3_year_average": 89.3,
          "sets_released_per_year": 85,
          "year": 1990
         },
         {
          "index": 39,
          "moving_3_year_average": 102.3,
          "sets_released_per_year": 107,
          "year": 1991
         },
         {
          "index": 40,
          "moving_3_year_average": 102.3,
          "sets_released_per_year": 115,
          "year": 1992
         },
         {
          "index": 41,
          "moving_3_year_average": 111,
          "sets_released_per_year": 111,
          "year": 1993
         },
         {
          "index": 42,
          "moving_3_year_average": 118,
          "sets_released_per_year": 128,
          "year": 1994
         },
         {
          "index": 43,
          "moving_3_year_average": 122.3,
          "sets_released_per_year": 128,
          "year": 1995
         },
         {
          "index": 44,
          "moving_3_year_average": 133.3,
          "sets_released_per_year": 144,
          "year": 1996
         },
         {
          "index": 45,
          "moving_3_year_average": 154.7,
          "sets_released_per_year": 192,
          "year": 1997
         },
         {
          "index": 46,
          "moving_3_year_average": 220.3,
          "sets_released_per_year": 325,
          "year": 1998
         },
         {
          "index": 47,
          "moving_3_year_average": 272.3,
          "sets_released_per_year": 300,
          "year": 1999
         },
         {
          "index": 48,
          "moving_3_year_average": 317.3,
          "sets_released_per_year": 327,
          "year": 2000
         },
         {
          "index": 49,
          "moving_3_year_average": 322,
          "sets_released_per_year": 339,
          "year": 2001
         },
         {
          "index": 50,
          "moving_3_year_average": 371,
          "sets_released_per_year": 447,
          "year": 2002
         },
         {
          "index": 51,
          "moving_3_year_average": 400.3,
          "sets_released_per_year": 415,
          "year": 2003
         },
         {
          "index": 52,
          "moving_3_year_average": 411,
          "sets_released_per_year": 371,
          "year": 2004
         },
         {
          "index": 53,
          "moving_3_year_average": 372,
          "sets_released_per_year": 330,
          "year": 2005
         },
         {
          "index": 54,
          "moving_3_year_average": 328,
          "sets_released_per_year": 283,
          "year": 2006
         },
         {
          "index": 55,
          "moving_3_year_average": 311.3,
          "sets_released_per_year": 321,
          "year": 2007
         },
         {
          "index": 56,
          "moving_3_year_average": 317.7,
          "sets_released_per_year": 349,
          "year": 2008
         },
         {
          "index": 57,
          "moving_3_year_average": 357.3,
          "sets_released_per_year": 402,
          "year": 2009
         },
         {
          "index": 58,
          "moving_3_year_average": 398.3,
          "sets_released_per_year": 444,
          "year": 2010
         },
         {
          "index": 59,
          "moving_3_year_average": 449.7,
          "sets_released_per_year": 503,
          "year": 2011
         },
         {
          "index": 60,
          "moving_3_year_average": 520.7,
          "sets_released_per_year": 615,
          "year": 2012
         },
         {
          "index": 61,
          "moving_3_year_average": 570.3,
          "sets_released_per_year": 593,
          "year": 2013
         },
         {
          "index": 62,
          "moving_3_year_average": 640.3,
          "sets_released_per_year": 713,
          "year": 2014
         },
         {
          "index": 63,
          "moving_3_year_average": 657,
          "sets_released_per_year": 665,
          "year": 2015
         },
         {
          "index": 64,
          "moving_3_year_average": 658,
          "sets_released_per_year": 596,
          "year": 2016
         },
         {
          "index": 65,
          "moving_3_year_average": 519,
          "sets_released_per_year": 296,
          "year": 2017
         }
        ],
        "schema": {
         "fields": [
          {
           "name": "index",
           "type": "integer"
          },
          {
           "name": "year",
           "type": "integer"
          },
          {
           "name": "sets_released_per_year",
           "type": "integer"
          },
          {
           "name": "moving_3_year_average",
           "type": "number"
          }
         ],
         "pandas_version": "1.4.0",
         "primaryKey": [
          "index"
         ]
        }
       },
       "total_rows": 66,
       "truncation_type": null
      },
      "text/html": [
       "<div>\n",
       "<style scoped>\n",
       "    .dataframe tbody tr th:only-of-type {\n",
       "        vertical-align: middle;\n",
       "    }\n",
       "\n",
       "    .dataframe tbody tr th {\n",
       "        vertical-align: top;\n",
       "    }\n",
       "\n",
       "    .dataframe thead th {\n",
       "        text-align: right;\n",
       "    }\n",
       "</style>\n",
       "<table border=\"1\" class=\"dataframe\">\n",
       "  <thead>\n",
       "    <tr style=\"text-align: right;\">\n",
       "      <th></th>\n",
       "      <th>year</th>\n",
       "      <th>sets_released_per_year</th>\n",
       "      <th>moving_3_year_average</th>\n",
       "    </tr>\n",
       "  </thead>\n",
       "  <tbody>\n",
       "    <tr>\n",
       "      <th>0</th>\n",
       "      <td>1950</td>\n",
       "      <td>7</td>\n",
       "      <td>7.0</td>\n",
       "    </tr>\n",
       "    <tr>\n",
       "      <th>1</th>\n",
       "      <td>1953</td>\n",
       "      <td>4</td>\n",
       "      <td>5.5</td>\n",
       "    </tr>\n",
       "    <tr>\n",
       "      <th>2</th>\n",
       "      <td>1954</td>\n",
       "      <td>14</td>\n",
       "      <td>8.3</td>\n",
       "    </tr>\n",
       "    <tr>\n",
       "      <th>3</th>\n",
       "      <td>1955</td>\n",
       "      <td>28</td>\n",
       "      <td>15.3</td>\n",
       "    </tr>\n",
       "    <tr>\n",
       "      <th>4</th>\n",
       "      <td>1956</td>\n",
       "      <td>12</td>\n",
       "      <td>18.0</td>\n",
       "    </tr>\n",
       "    <tr>\n",
       "      <th>...</th>\n",
       "      <td>...</td>\n",
       "      <td>...</td>\n",
       "      <td>...</td>\n",
       "    </tr>\n",
       "    <tr>\n",
       "      <th>61</th>\n",
       "      <td>2013</td>\n",
       "      <td>593</td>\n",
       "      <td>570.3</td>\n",
       "    </tr>\n",
       "    <tr>\n",
       "      <th>62</th>\n",
       "      <td>2014</td>\n",
       "      <td>713</td>\n",
       "      <td>640.3</td>\n",
       "    </tr>\n",
       "    <tr>\n",
       "      <th>63</th>\n",
       "      <td>2015</td>\n",
       "      <td>665</td>\n",
       "      <td>657.0</td>\n",
       "    </tr>\n",
       "    <tr>\n",
       "      <th>64</th>\n",
       "      <td>2016</td>\n",
       "      <td>596</td>\n",
       "      <td>658.0</td>\n",
       "    </tr>\n",
       "    <tr>\n",
       "      <th>65</th>\n",
       "      <td>2017</td>\n",
       "      <td>296</td>\n",
       "      <td>519.0</td>\n",
       "    </tr>\n",
       "  </tbody>\n",
       "</table>\n",
       "<p>66 rows × 3 columns</p>\n",
       "</div>"
      ],
      "text/plain": [
       "    year  sets_released_per_year  moving_3_year_average\n",
       "0   1950                       7                    7.0\n",
       "1   1953                       4                    5.5\n",
       "2   1954                      14                    8.3\n",
       "3   1955                      28                   15.3\n",
       "4   1956                      12                   18.0\n",
       "..   ...                     ...                    ...\n",
       "61  2013                     593                  570.3\n",
       "62  2014                     713                  640.3\n",
       "63  2015                     665                  657.0\n",
       "64  2016                     596                  658.0\n",
       "65  2017                     296                  519.0\n",
       "\n",
       "[66 rows x 3 columns]"
      ]
     },
     "execution_count": 66,
     "metadata": {},
     "output_type": "execute_result"
    }
   ],
   "source": [
    "WITH sets_released AS (\n",
    "SELECT year, COUNT(set_num) as sets_released_per_year\n",
    "FROM sets\n",
    "GROUP BY year\n",
    "ORDER BY YEAR ASC\n",
    "    )\n",
    "\n",
    "SELECT year,\n",
    "    sets_released_per_year,\n",
    "    ROUND(AVG(sets_released_per_year) OVER (ORDER BY year\n",
    "                       ROWS BETWEEN 2 preceding  AND current row),1) AS moving_3_year_average\n",
    "\n",
    "FROM sets_released;"
   ]
  },
  {
   "cell_type": "markdown",
   "id": "0472ea55-cd59-4214-a09d-2717853ceaf6",
   "metadata": {},
   "source": [
    "## 2. What is the average number of Lego parts per year?"
   ]
  },
  {
   "cell_type": "markdown",
   "id": "f19ac173-fcf8-4e51-acab-3ccf1a5a54a6",
   "metadata": {},
   "source": [
    "In the same way as in the previous exercise, we wonder. How many **parts** does this dataset have? What is the **temporal range** analyzed?"
   ]
  },
  {
   "cell_type": "code",
   "execution_count": 15,
   "id": "dcecf5a2-6cb6-4a70-ab36-e30152b8bb68",
   "metadata": {
    "customType": "sql",
    "dataFrameVariableName": "df",
    "executionTime": 1507,
    "integrationId": "fe6a1b73-7874-4e69-b6fb-fe69bb8b4667",
    "lastSuccessfullyExecutedCode": "SELECT SUM(num_parts) AS total_parts, COUNT(DISTINCT year) AS total_years,  (SUM(num_parts) / COUNT(DISTINCT year)) AS average_number_of_parts\nFROM sets;"
   },
   "outputs": [
    {
     "data": {
      "application/com.datacamp.data-table.v1+json": {
       "table": {
        "data": [
         {
          "average_number_of_parts": 28698,
          "index": 0,
          "total_parts": 1894089,
          "total_years": 66
         }
        ],
        "schema": {
         "fields": [
          {
           "name": "index",
           "type": "integer"
          },
          {
           "name": "total_parts",
           "type": "integer"
          },
          {
           "name": "total_years",
           "type": "integer"
          },
          {
           "name": "average_number_of_parts",
           "type": "integer"
          }
         ],
         "pandas_version": "1.4.0",
         "primaryKey": [
          "index"
         ]
        }
       },
       "total_rows": 1,
       "truncation_type": null
      },
      "text/html": [
       "<div>\n",
       "<style scoped>\n",
       "    .dataframe tbody tr th:only-of-type {\n",
       "        vertical-align: middle;\n",
       "    }\n",
       "\n",
       "    .dataframe tbody tr th {\n",
       "        vertical-align: top;\n",
       "    }\n",
       "\n",
       "    .dataframe thead th {\n",
       "        text-align: right;\n",
       "    }\n",
       "</style>\n",
       "<table border=\"1\" class=\"dataframe\">\n",
       "  <thead>\n",
       "    <tr style=\"text-align: right;\">\n",
       "      <th></th>\n",
       "      <th>total_parts</th>\n",
       "      <th>total_years</th>\n",
       "      <th>average_number_of_parts</th>\n",
       "    </tr>\n",
       "  </thead>\n",
       "  <tbody>\n",
       "    <tr>\n",
       "      <th>0</th>\n",
       "      <td>1894089</td>\n",
       "      <td>66</td>\n",
       "      <td>28698</td>\n",
       "    </tr>\n",
       "  </tbody>\n",
       "</table>\n",
       "</div>"
      ],
      "text/plain": [
       "   total_parts  total_years  average_number_of_parts\n",
       "0      1894089           66                    28698"
      ]
     },
     "execution_count": 15,
     "metadata": {},
     "output_type": "execute_result"
    }
   ],
   "source": [
    "SELECT SUM(num_parts) AS total_parts, COUNT(DISTINCT year) AS total_years,  (SUM(num_parts) / COUNT(DISTINCT year)) AS average_number_of_parts\n",
    "FROM sets;"
   ]
  },
  {
   "cell_type": "markdown",
   "id": "1482f26c-5da9-4508-92ab-eda418f4985a",
   "metadata": {},
   "source": [
    "The dataset has **1,894,089** total parts, with data from the year **1950** to the year **2017** inclusive (66 years of history). Consequently, the **average number of parts per year** (considering the entire period analyzed) is **28,698**."
   ]
  },
  {
   "cell_type": "markdown",
   "id": "61024e85-2cd1-4781-9a0a-16946c9823f9",
   "metadata": {},
   "source": [
    "Despite the **average number of parts per year** presented, we will present the **average number of part for each year** to analyze trends, if applicable."
   ]
  },
  {
   "cell_type": "code",
   "execution_count": 7,
   "id": "17e3e2ac-26bf-4f3a-a225-ec444153d483",
   "metadata": {
    "customType": "sql",
    "dataFrameVariableName": "df",
    "executionTime": 1291,
    "initial": false,
    "integrationId": "fe6a1b73-7874-4e69-b6fb-fe69bb8b4667",
    "lastSuccessfullyExecutedCode": "SELECT year,\n    SUM(num_parts) AS parts_per_year,\n    COUNT(num_parts) AS count_parts_per_year,\n    SUM(num_parts) / COUNT(num_parts) AS avg_parts_per_year\nFROM sets\nGROUP BY year\nORDER BY year;"
   },
   "outputs": [
    {
     "data": {
      "application/com.datacamp.data-table.v1+json": {
       "table": {
        "data": [
         {
          "avg_parts_per_year": 10,
          "count_parts_per_year": 7,
          "index": 0,
          "parts_per_year": 71,
          "year": 1950
         },
         {
          "avg_parts_per_year": 16,
          "count_parts_per_year": 4,
          "index": 1,
          "parts_per_year": 66,
          "year": 1953
         },
         {
          "avg_parts_per_year": 12,
          "count_parts_per_year": 14,
          "index": 2,
          "parts_per_year": 173,
          "year": 1954
         },
         {
          "avg_parts_per_year": 36,
          "count_parts_per_year": 28,
          "index": 3,
          "parts_per_year": 1032,
          "year": 1955
         },
         {
          "avg_parts_per_year": 18,
          "count_parts_per_year": 12,
          "index": 4,
          "parts_per_year": 222,
          "year": 1956
         },
         {
          "avg_parts_per_year": 42,
          "count_parts_per_year": 21,
          "index": 5,
          "parts_per_year": 895,
          "year": 1957
         },
         {
          "avg_parts_per_year": 44,
          "count_parts_per_year": 42,
          "index": 6,
          "parts_per_year": 1867,
          "year": 1958
         },
         {
          "avg_parts_per_year": 16,
          "count_parts_per_year": 4,
          "index": 7,
          "parts_per_year": 65,
          "year": 1959
         },
         {
          "avg_parts_per_year": 175,
          "count_parts_per_year": 3,
          "index": 8,
          "parts_per_year": 526,
          "year": 1960
         },
         {
          "avg_parts_per_year": 70,
          "count_parts_per_year": 17,
          "index": 9,
          "parts_per_year": 1200,
          "year": 1961
         },
         {
          "avg_parts_per_year": 81,
          "count_parts_per_year": 40,
          "index": 10,
          "parts_per_year": 3270,
          "year": 1962
         },
         {
          "avg_parts_per_year": 33,
          "count_parts_per_year": 18,
          "index": 11,
          "parts_per_year": 600,
          "year": 1963
         },
         {
          "avg_parts_per_year": 82,
          "count_parts_per_year": 11,
          "index": 12,
          "parts_per_year": 909,
          "year": 1964
         },
         {
          "avg_parts_per_year": 107,
          "count_parts_per_year": 10,
          "index": 13,
          "parts_per_year": 1071,
          "year": 1965
         },
         {
          "avg_parts_per_year": 40,
          "count_parts_per_year": 89,
          "index": 14,
          "parts_per_year": 3616,
          "year": 1966
         },
         {
          "avg_parts_per_year": 98,
          "count_parts_per_year": 21,
          "index": 15,
          "parts_per_year": 2070,
          "year": 1967
         },
         {
          "avg_parts_per_year": 127,
          "count_parts_per_year": 25,
          "index": 16,
          "parts_per_year": 3179,
          "year": 1968
         },
         {
          "avg_parts_per_year": 64,
          "count_parts_per_year": 69,
          "index": 17,
          "parts_per_year": 4456,
          "year": 1969
         },
         {
          "avg_parts_per_year": 84,
          "count_parts_per_year": 29,
          "index": 18,
          "parts_per_year": 2459,
          "year": 1970
         },
         {
          "avg_parts_per_year": 66,
          "count_parts_per_year": 45,
          "index": 19,
          "parts_per_year": 3014,
          "year": 1971
         },
         {
          "avg_parts_per_year": 102,
          "count_parts_per_year": 38,
          "index": 20,
          "parts_per_year": 3906,
          "year": 1972
         },
         {
          "avg_parts_per_year": 104,
          "count_parts_per_year": 67,
          "index": 21,
          "parts_per_year": 7028,
          "year": 1973
         },
         {
          "avg_parts_per_year": 116,
          "count_parts_per_year": 39,
          "index": 22,
          "parts_per_year": 4554,
          "year": 1974
         },
         {
          "avg_parts_per_year": 155,
          "count_parts_per_year": 31,
          "index": 23,
          "parts_per_year": 4812,
          "year": 1975
         },
         {
          "avg_parts_per_year": 153,
          "count_parts_per_year": 68,
          "index": 24,
          "parts_per_year": 10406,
          "year": 1976
         },
         {
          "avg_parts_per_year": 91,
          "count_parts_per_year": 92,
          "index": 25,
          "parts_per_year": 8418,
          "year": 1977
         },
         {
          "avg_parts_per_year": 146,
          "count_parts_per_year": 73,
          "index": 26,
          "parts_per_year": 10703,
          "year": 1978
         },
         {
          "avg_parts_per_year": 105,
          "count_parts_per_year": 82,
          "index": 27,
          "parts_per_year": 8639,
          "year": 1979
         },
         {
          "avg_parts_per_year": 126,
          "count_parts_per_year": 88,
          "index": 28,
          "parts_per_year": 11144,
          "year": 1980
         },
         {
          "avg_parts_per_year": 92,
          "count_parts_per_year": 79,
          "index": 29,
          "parts_per_year": 7308,
          "year": 1981
         },
         {
          "avg_parts_per_year": 69,
          "count_parts_per_year": 76,
          "index": 30,
          "parts_per_year": 5269,
          "year": 1982
         },
         {
          "avg_parts_per_year": 116,
          "count_parts_per_year": 57,
          "index": 31,
          "parts_per_year": 6616,
          "year": 1983
         },
         {
          "avg_parts_per_year": 95,
          "count_parts_per_year": 76,
          "index": 32,
          "parts_per_year": 7223,
          "year": 1984
         },
         {
          "avg_parts_per_year": 122,
          "count_parts_per_year": 139,
          "index": 33,
          "parts_per_year": 16963,
          "year": 1985
         },
         {
          "avg_parts_per_year": 113,
          "count_parts_per_year": 123,
          "index": 34,
          "parts_per_year": 13997,
          "year": 1986
         },
         {
          "avg_parts_per_year": 70,
          "count_parts_per_year": 209,
          "index": 35,
          "parts_per_year": 14630,
          "year": 1987
         },
         {
          "avg_parts_per_year": 144,
          "count_parts_per_year": 68,
          "index": 36,
          "parts_per_year": 9803,
          "year": 1988
         },
         {
          "avg_parts_per_year": 101,
          "count_parts_per_year": 115,
          "index": 37,
          "parts_per_year": 11661,
          "year": 1989
         },
         {
          "avg_parts_per_year": 201,
          "count_parts_per_year": 85,
          "index": 38,
          "parts_per_year": 17149,
          "year": 1990
         },
         {
          "avg_parts_per_year": 164,
          "count_parts_per_year": 107,
          "index": 39,
          "parts_per_year": 17596,
          "year": 1991
         },
         {
          "avg_parts_per_year": 119,
          "count_parts_per_year": 115,
          "index": 40,
          "parts_per_year": 13754,
          "year": 1992
         },
         {
          "avg_parts_per_year": 148,
          "count_parts_per_year": 111,
          "index": 41,
          "parts_per_year": 16474,
          "year": 1993
         },
         {
          "avg_parts_per_year": 127,
          "count_parts_per_year": 128,
          "index": 42,
          "parts_per_year": 16336,
          "year": 1994
         },
         {
          "avg_parts_per_year": 179,
          "count_parts_per_year": 128,
          "index": 43,
          "parts_per_year": 22916,
          "year": 1995
         },
         {
          "avg_parts_per_year": 201,
          "count_parts_per_year": 144,
          "index": 44,
          "parts_per_year": 29029,
          "year": 1996
         },
         {
          "avg_parts_per_year": 130,
          "count_parts_per_year": 192,
          "index": 45,
          "parts_per_year": 25070,
          "year": 1997
         },
         {
          "avg_parts_per_year": 141,
          "count_parts_per_year": 325,
          "index": 46,
          "parts_per_year": 45866,
          "year": 1998
         },
         {
          "avg_parts_per_year": 105,
          "count_parts_per_year": 300,
          "index": 47,
          "parts_per_year": 31677,
          "year": 1999
         },
         {
          "avg_parts_per_year": 104,
          "count_parts_per_year": 327,
          "index": 48,
          "parts_per_year": 34128,
          "year": 2000
         },
         {
          "avg_parts_per_year": 104,
          "count_parts_per_year": 339,
          "index": 49,
          "parts_per_year": 35380,
          "year": 2001
         },
         {
          "avg_parts_per_year": 115,
          "count_parts_per_year": 447,
          "index": 50,
          "parts_per_year": 51718,
          "year": 2002
         },
         {
          "avg_parts_per_year": 159,
          "count_parts_per_year": 415,
          "index": 51,
          "parts_per_year": 66267,
          "year": 2003
         },
         {
          "avg_parts_per_year": 138,
          "count_parts_per_year": 371,
          "index": 52,
          "parts_per_year": 51513,
          "year": 2004
         },
         {
          "avg_parts_per_year": 198,
          "count_parts_per_year": 330,
          "index": 53,
          "parts_per_year": 65572,
          "year": 2005
         },
         {
          "avg_parts_per_year": 246,
          "count_parts_per_year": 283,
          "index": 54,
          "parts_per_year": 69854,
          "year": 2006
         },
         {
          "avg_parts_per_year": 227,
          "count_parts_per_year": 321,
          "index": 55,
          "parts_per_year": 73058,
          "year": 2007
         },
         {
          "avg_parts_per_year": 231,
          "count_parts_per_year": 349,
          "index": 56,
          "parts_per_year": 80828,
          "year": 2008
         },
         {
          "avg_parts_per_year": 197,
          "count_parts_per_year": 402,
          "index": 57,
          "parts_per_year": 79311,
          "year": 2009
         },
         {
          "avg_parts_per_year": 210,
          "count_parts_per_year": 444,
          "index": 58,
          "parts_per_year": 93429,
          "year": 2010
         },
         {
          "avg_parts_per_year": 160,
          "count_parts_per_year": 503,
          "index": 59,
          "parts_per_year": 80526,
          "year": 2011
         },
         {
          "avg_parts_per_year": 149,
          "count_parts_per_year": 615,
          "index": 60,
          "parts_per_year": 92106,
          "year": 2012
         },
         {
          "avg_parts_per_year": 181,
          "count_parts_per_year": 593,
          "index": 61,
          "parts_per_year": 107537,
          "year": 2013
         },
         {
          "avg_parts_per_year": 169,
          "count_parts_per_year": 713,
          "index": 62,
          "parts_per_year": 121007,
          "year": 2014
         },
         {
          "avg_parts_per_year": 201,
          "count_parts_per_year": 665,
          "index": 63,
          "parts_per_year": 134110,
          "year": 2015
         },
         {
          "avg_parts_per_year": 253,
          "count_parts_per_year": 596,
          "index": 64,
          "parts_per_year": 150834,
          "year": 2016
         },
         {
          "avg_parts_per_year": 260,
          "count_parts_per_year": 296,
          "index": 65,
          "parts_per_year": 77203,
          "year": 2017
         }
        ],
        "schema": {
         "fields": [
          {
           "name": "index",
           "type": "integer"
          },
          {
           "name": "year",
           "type": "integer"
          },
          {
           "name": "parts_per_year",
           "type": "integer"
          },
          {
           "name": "count_parts_per_year",
           "type": "integer"
          },
          {
           "name": "avg_parts_per_year",
           "type": "integer"
          }
         ],
         "pandas_version": "1.4.0",
         "primaryKey": [
          "index"
         ]
        }
       },
       "total_rows": 66,
       "truncation_type": null
      },
      "text/html": [
       "<div>\n",
       "<style scoped>\n",
       "    .dataframe tbody tr th:only-of-type {\n",
       "        vertical-align: middle;\n",
       "    }\n",
       "\n",
       "    .dataframe tbody tr th {\n",
       "        vertical-align: top;\n",
       "    }\n",
       "\n",
       "    .dataframe thead th {\n",
       "        text-align: right;\n",
       "    }\n",
       "</style>\n",
       "<table border=\"1\" class=\"dataframe\">\n",
       "  <thead>\n",
       "    <tr style=\"text-align: right;\">\n",
       "      <th></th>\n",
       "      <th>year</th>\n",
       "      <th>parts_per_year</th>\n",
       "      <th>count_parts_per_year</th>\n",
       "      <th>avg_parts_per_year</th>\n",
       "    </tr>\n",
       "  </thead>\n",
       "  <tbody>\n",
       "    <tr>\n",
       "      <th>0</th>\n",
       "      <td>1950</td>\n",
       "      <td>71</td>\n",
       "      <td>7</td>\n",
       "      <td>10</td>\n",
       "    </tr>\n",
       "    <tr>\n",
       "      <th>1</th>\n",
       "      <td>1953</td>\n",
       "      <td>66</td>\n",
       "      <td>4</td>\n",
       "      <td>16</td>\n",
       "    </tr>\n",
       "    <tr>\n",
       "      <th>2</th>\n",
       "      <td>1954</td>\n",
       "      <td>173</td>\n",
       "      <td>14</td>\n",
       "      <td>12</td>\n",
       "    </tr>\n",
       "    <tr>\n",
       "      <th>3</th>\n",
       "      <td>1955</td>\n",
       "      <td>1032</td>\n",
       "      <td>28</td>\n",
       "      <td>36</td>\n",
       "    </tr>\n",
       "    <tr>\n",
       "      <th>4</th>\n",
       "      <td>1956</td>\n",
       "      <td>222</td>\n",
       "      <td>12</td>\n",
       "      <td>18</td>\n",
       "    </tr>\n",
       "    <tr>\n",
       "      <th>...</th>\n",
       "      <td>...</td>\n",
       "      <td>...</td>\n",
       "      <td>...</td>\n",
       "      <td>...</td>\n",
       "    </tr>\n",
       "    <tr>\n",
       "      <th>61</th>\n",
       "      <td>2013</td>\n",
       "      <td>107537</td>\n",
       "      <td>593</td>\n",
       "      <td>181</td>\n",
       "    </tr>\n",
       "    <tr>\n",
       "      <th>62</th>\n",
       "      <td>2014</td>\n",
       "      <td>121007</td>\n",
       "      <td>713</td>\n",
       "      <td>169</td>\n",
       "    </tr>\n",
       "    <tr>\n",
       "      <th>63</th>\n",
       "      <td>2015</td>\n",
       "      <td>134110</td>\n",
       "      <td>665</td>\n",
       "      <td>201</td>\n",
       "    </tr>\n",
       "    <tr>\n",
       "      <th>64</th>\n",
       "      <td>2016</td>\n",
       "      <td>150834</td>\n",
       "      <td>596</td>\n",
       "      <td>253</td>\n",
       "    </tr>\n",
       "    <tr>\n",
       "      <th>65</th>\n",
       "      <td>2017</td>\n",
       "      <td>77203</td>\n",
       "      <td>296</td>\n",
       "      <td>260</td>\n",
       "    </tr>\n",
       "  </tbody>\n",
       "</table>\n",
       "<p>66 rows × 4 columns</p>\n",
       "</div>"
      ],
      "text/plain": [
       "    year  parts_per_year  count_parts_per_year  avg_parts_per_year\n",
       "0   1950              71                     7                  10\n",
       "1   1953              66                     4                  16\n",
       "2   1954             173                    14                  12\n",
       "3   1955            1032                    28                  36\n",
       "4   1956             222                    12                  18\n",
       "..   ...             ...                   ...                 ...\n",
       "61  2013          107537                   593                 181\n",
       "62  2014          121007                   713                 169\n",
       "63  2015          134110                   665                 201\n",
       "64  2016          150834                   596                 253\n",
       "65  2017           77203                   296                 260\n",
       "\n",
       "[66 rows x 4 columns]"
      ]
     },
     "execution_count": 7,
     "metadata": {},
     "output_type": "execute_result"
    }
   ],
   "source": [
    "SELECT year,\n",
    "    SUM(num_parts) AS parts_per_year,\n",
    "    COUNT(num_parts) AS count_parts_per_year,\n",
    "    SUM(num_parts) / COUNT(num_parts) AS avg_parts_per_year\n",
    "FROM sets\n",
    "GROUP BY year\n",
    "ORDER BY year;"
   ]
  },
  {
   "cell_type": "markdown",
   "id": "21dde27e-0475-4bdb-8490-e7815053a937",
   "metadata": {},
   "source": [
    "How is it possible that these yearly averages are so far from the average analyzed in the first place (28,698)? Well, another way to approach the problem would be to show a **moving average.**"
   ]
  },
  {
   "cell_type": "code",
   "execution_count": 9,
   "id": "b8e381ce-2086-40e5-8762-905e08ab6832",
   "metadata": {
    "customType": "sql",
    "dataFrameVariableName": "moving_average_parts",
    "executionTime": 1648,
    "initial": false,
    "integrationId": "fe6a1b73-7874-4e69-b6fb-fe69bb8b4667",
    "lastSuccessfullyExecutedCode": "WITH parts_released AS (\nSELECT year, SUM(num_parts) as parts_per_year\nFROM sets\nGROUP BY year\nORDER BY YEAR ASC\n    )\n\nSELECT year,\n    parts_per_year,\n    ROUND(AVG(parts_per_year) OVER (ORDER BY year\n                       ROWS BETWEEN 2 preceding  AND current row),1) AS moving_3_year_average\n\nFROM parts_released;"
   },
   "outputs": [
    {
     "data": {
      "application/com.datacamp.data-table.v1+json": {
       "table": {
        "data": [
         {
          "index": 0,
          "moving_3_year_average": 71,
          "parts_per_year": 71,
          "year": 1950
         },
         {
          "index": 1,
          "moving_3_year_average": 68.5,
          "parts_per_year": 66,
          "year": 1953
         },
         {
          "index": 2,
          "moving_3_year_average": 103.3,
          "parts_per_year": 173,
          "year": 1954
         },
         {
          "index": 3,
          "moving_3_year_average": 423.7,
          "parts_per_year": 1032,
          "year": 1955
         },
         {
          "index": 4,
          "moving_3_year_average": 475.7,
          "parts_per_year": 222,
          "year": 1956
         },
         {
          "index": 5,
          "moving_3_year_average": 716.3,
          "parts_per_year": 895,
          "year": 1957
         },
         {
          "index": 6,
          "moving_3_year_average": 994.7,
          "parts_per_year": 1867,
          "year": 1958
         },
         {
          "index": 7,
          "moving_3_year_average": 942.3,
          "parts_per_year": 65,
          "year": 1959
         },
         {
          "index": 8,
          "moving_3_year_average": 819.3,
          "parts_per_year": 526,
          "year": 1960
         },
         {
          "index": 9,
          "moving_3_year_average": 597,
          "parts_per_year": 1200,
          "year": 1961
         },
         {
          "index": 10,
          "moving_3_year_average": 1665.3,
          "parts_per_year": 3270,
          "year": 1962
         },
         {
          "index": 11,
          "moving_3_year_average": 1690,
          "parts_per_year": 600,
          "year": 1963
         },
         {
          "index": 12,
          "moving_3_year_average": 1593,
          "parts_per_year": 909,
          "year": 1964
         },
         {
          "index": 13,
          "moving_3_year_average": 860,
          "parts_per_year": 1071,
          "year": 1965
         },
         {
          "index": 14,
          "moving_3_year_average": 1865.3,
          "parts_per_year": 3616,
          "year": 1966
         },
         {
          "index": 15,
          "moving_3_year_average": 2252.3,
          "parts_per_year": 2070,
          "year": 1967
         },
         {
          "index": 16,
          "moving_3_year_average": 2955,
          "parts_per_year": 3179,
          "year": 1968
         },
         {
          "index": 17,
          "moving_3_year_average": 3235,
          "parts_per_year": 4456,
          "year": 1969
         },
         {
          "index": 18,
          "moving_3_year_average": 3364.7,
          "parts_per_year": 2459,
          "year": 1970
         },
         {
          "index": 19,
          "moving_3_year_average": 3309.7,
          "parts_per_year": 3014,
          "year": 1971
         },
         {
          "index": 20,
          "moving_3_year_average": 3126.3,
          "parts_per_year": 3906,
          "year": 1972
         },
         {
          "index": 21,
          "moving_3_year_average": 4649.3,
          "parts_per_year": 7028,
          "year": 1973
         },
         {
          "index": 22,
          "moving_3_year_average": 5162.7,
          "parts_per_year": 4554,
          "year": 1974
         },
         {
          "index": 23,
          "moving_3_year_average": 5464.7,
          "parts_per_year": 4812,
          "year": 1975
         },
         {
          "index": 24,
          "moving_3_year_average": 6590.7,
          "parts_per_year": 10406,
          "year": 1976
         },
         {
          "index": 25,
          "moving_3_year_average": 7878.7,
          "parts_per_year": 8418,
          "year": 1977
         },
         {
          "index": 26,
          "moving_3_year_average": 9842.3,
          "parts_per_year": 10703,
          "year": 1978
         },
         {
          "index": 27,
          "moving_3_year_average": 9253.3,
          "parts_per_year": 8639,
          "year": 1979
         },
         {
          "index": 28,
          "moving_3_year_average": 10162,
          "parts_per_year": 11144,
          "year": 1980
         },
         {
          "index": 29,
          "moving_3_year_average": 9030.3,
          "parts_per_year": 7308,
          "year": 1981
         },
         {
          "index": 30,
          "moving_3_year_average": 7907,
          "parts_per_year": 5269,
          "year": 1982
         },
         {
          "index": 31,
          "moving_3_year_average": 6397.7,
          "parts_per_year": 6616,
          "year": 1983
         },
         {
          "index": 32,
          "moving_3_year_average": 6369.3,
          "parts_per_year": 7223,
          "year": 1984
         },
         {
          "index": 33,
          "moving_3_year_average": 10267.3,
          "parts_per_year": 16963,
          "year": 1985
         },
         {
          "index": 34,
          "moving_3_year_average": 12727.7,
          "parts_per_year": 13997,
          "year": 1986
         },
         {
          "index": 35,
          "moving_3_year_average": 15196.7,
          "parts_per_year": 14630,
          "year": 1987
         },
         {
          "index": 36,
          "moving_3_year_average": 12810,
          "parts_per_year": 9803,
          "year": 1988
         },
         {
          "index": 37,
          "moving_3_year_average": 12031.3,
          "parts_per_year": 11661,
          "year": 1989
         },
         {
          "index": 38,
          "moving_3_year_average": 12871,
          "parts_per_year": 17149,
          "year": 1990
         },
         {
          "index": 39,
          "moving_3_year_average": 15468.7,
          "parts_per_year": 17596,
          "year": 1991
         },
         {
          "index": 40,
          "moving_3_year_average": 16166.3,
          "parts_per_year": 13754,
          "year": 1992
         },
         {
          "index": 41,
          "moving_3_year_average": 15941.3,
          "parts_per_year": 16474,
          "year": 1993
         },
         {
          "index": 42,
          "moving_3_year_average": 15521.3,
          "parts_per_year": 16336,
          "year": 1994
         },
         {
          "index": 43,
          "moving_3_year_average": 18575.3,
          "parts_per_year": 22916,
          "year": 1995
         },
         {
          "index": 44,
          "moving_3_year_average": 22760.3,
          "parts_per_year": 29029,
          "year": 1996
         },
         {
          "index": 45,
          "moving_3_year_average": 25671.7,
          "parts_per_year": 25070,
          "year": 1997
         },
         {
          "index": 46,
          "moving_3_year_average": 33321.7,
          "parts_per_year": 45866,
          "year": 1998
         },
         {
          "index": 47,
          "moving_3_year_average": 34204.3,
          "parts_per_year": 31677,
          "year": 1999
         },
         {
          "index": 48,
          "moving_3_year_average": 37223.7,
          "parts_per_year": 34128,
          "year": 2000
         },
         {
          "index": 49,
          "moving_3_year_average": 33728.3,
          "parts_per_year": 35380,
          "year": 2001
         },
         {
          "index": 50,
          "moving_3_year_average": 40408.7,
          "parts_per_year": 51718,
          "year": 2002
         },
         {
          "index": 51,
          "moving_3_year_average": 51121.7,
          "parts_per_year": 66267,
          "year": 2003
         },
         {
          "index": 52,
          "moving_3_year_average": 56499.3,
          "parts_per_year": 51513,
          "year": 2004
         },
         {
          "index": 53,
          "moving_3_year_average": 61117.3,
          "parts_per_year": 65572,
          "year": 2005
         },
         {
          "index": 54,
          "moving_3_year_average": 62313,
          "parts_per_year": 69854,
          "year": 2006
         },
         {
          "index": 55,
          "moving_3_year_average": 69494.7,
          "parts_per_year": 73058,
          "year": 2007
         },
         {
          "index": 56,
          "moving_3_year_average": 74580,
          "parts_per_year": 80828,
          "year": 2008
         },
         {
          "index": 57,
          "moving_3_year_average": 77732.3,
          "parts_per_year": 79311,
          "year": 2009
         },
         {
          "index": 58,
          "moving_3_year_average": 84522.7,
          "parts_per_year": 93429,
          "year": 2010
         },
         {
          "index": 59,
          "moving_3_year_average": 84422,
          "parts_per_year": 80526,
          "year": 2011
         },
         {
          "index": 60,
          "moving_3_year_average": 88687,
          "parts_per_year": 92106,
          "year": 2012
         },
         {
          "index": 61,
          "moving_3_year_average": 93389.7,
          "parts_per_year": 107537,
          "year": 2013
         },
         {
          "index": 62,
          "moving_3_year_average": 106883.3,
          "parts_per_year": 121007,
          "year": 2014
         },
         {
          "index": 63,
          "moving_3_year_average": 120884.7,
          "parts_per_year": 134110,
          "year": 2015
         },
         {
          "index": 64,
          "moving_3_year_average": 135317,
          "parts_per_year": 150834,
          "year": 2016
         },
         {
          "index": 65,
          "moving_3_year_average": 120715.7,
          "parts_per_year": 77203,
          "year": 2017
         }
        ],
        "schema": {
         "fields": [
          {
           "name": "index",
           "type": "integer"
          },
          {
           "name": "year",
           "type": "integer"
          },
          {
           "name": "parts_per_year",
           "type": "integer"
          },
          {
           "name": "moving_3_year_average",
           "type": "number"
          }
         ],
         "pandas_version": "1.4.0",
         "primaryKey": [
          "index"
         ]
        }
       },
       "total_rows": 66,
       "truncation_type": null
      },
      "text/html": [
       "<div>\n",
       "<style scoped>\n",
       "    .dataframe tbody tr th:only-of-type {\n",
       "        vertical-align: middle;\n",
       "    }\n",
       "\n",
       "    .dataframe tbody tr th {\n",
       "        vertical-align: top;\n",
       "    }\n",
       "\n",
       "    .dataframe thead th {\n",
       "        text-align: right;\n",
       "    }\n",
       "</style>\n",
       "<table border=\"1\" class=\"dataframe\">\n",
       "  <thead>\n",
       "    <tr style=\"text-align: right;\">\n",
       "      <th></th>\n",
       "      <th>year</th>\n",
       "      <th>parts_per_year</th>\n",
       "      <th>moving_3_year_average</th>\n",
       "    </tr>\n",
       "  </thead>\n",
       "  <tbody>\n",
       "    <tr>\n",
       "      <th>0</th>\n",
       "      <td>1950</td>\n",
       "      <td>71</td>\n",
       "      <td>71.0</td>\n",
       "    </tr>\n",
       "    <tr>\n",
       "      <th>1</th>\n",
       "      <td>1953</td>\n",
       "      <td>66</td>\n",
       "      <td>68.5</td>\n",
       "    </tr>\n",
       "    <tr>\n",
       "      <th>2</th>\n",
       "      <td>1954</td>\n",
       "      <td>173</td>\n",
       "      <td>103.3</td>\n",
       "    </tr>\n",
       "    <tr>\n",
       "      <th>3</th>\n",
       "      <td>1955</td>\n",
       "      <td>1032</td>\n",
       "      <td>423.7</td>\n",
       "    </tr>\n",
       "    <tr>\n",
       "      <th>4</th>\n",
       "      <td>1956</td>\n",
       "      <td>222</td>\n",
       "      <td>475.7</td>\n",
       "    </tr>\n",
       "    <tr>\n",
       "      <th>...</th>\n",
       "      <td>...</td>\n",
       "      <td>...</td>\n",
       "      <td>...</td>\n",
       "    </tr>\n",
       "    <tr>\n",
       "      <th>61</th>\n",
       "      <td>2013</td>\n",
       "      <td>107537</td>\n",
       "      <td>93389.7</td>\n",
       "    </tr>\n",
       "    <tr>\n",
       "      <th>62</th>\n",
       "      <td>2014</td>\n",
       "      <td>121007</td>\n",
       "      <td>106883.3</td>\n",
       "    </tr>\n",
       "    <tr>\n",
       "      <th>63</th>\n",
       "      <td>2015</td>\n",
       "      <td>134110</td>\n",
       "      <td>120884.7</td>\n",
       "    </tr>\n",
       "    <tr>\n",
       "      <th>64</th>\n",
       "      <td>2016</td>\n",
       "      <td>150834</td>\n",
       "      <td>135317.0</td>\n",
       "    </tr>\n",
       "    <tr>\n",
       "      <th>65</th>\n",
       "      <td>2017</td>\n",
       "      <td>77203</td>\n",
       "      <td>120715.7</td>\n",
       "    </tr>\n",
       "  </tbody>\n",
       "</table>\n",
       "<p>66 rows × 3 columns</p>\n",
       "</div>"
      ],
      "text/plain": [
       "    year  parts_per_year  moving_3_year_average\n",
       "0   1950              71                   71.0\n",
       "1   1953              66                   68.5\n",
       "2   1954             173                  103.3\n",
       "3   1955            1032                  423.7\n",
       "4   1956             222                  475.7\n",
       "..   ...             ...                    ...\n",
       "61  2013          107537                93389.7\n",
       "62  2014          121007               106883.3\n",
       "63  2015          134110               120884.7\n",
       "64  2016          150834               135317.0\n",
       "65  2017           77203               120715.7\n",
       "\n",
       "[66 rows x 3 columns]"
      ]
     },
     "execution_count": 9,
     "metadata": {},
     "output_type": "execute_result"
    }
   ],
   "source": [
    "WITH parts_released AS (\n",
    "SELECT year, SUM(num_parts) as parts_per_year\n",
    "FROM sets\n",
    "GROUP BY year\n",
    "ORDER BY YEAR ASC\n",
    "    )\n",
    "\n",
    "SELECT year,\n",
    "    parts_per_year,\n",
    "    ROUND(AVG(parts_per_year) OVER (ORDER BY year\n",
    "                       ROWS BETWEEN 2 preceding  AND current row),1) AS moving_3_year_average\n",
    "\n",
    "FROM parts_released;"
   ]
  },
  {
   "cell_type": "markdown",
   "id": "3a57e5f9-09a9-453c-bb4f-041b47e3888d",
   "metadata": {},
   "source": [
    "## 3. Create a visualization for item 2.\n"
   ]
  },
  {
   "cell_type": "code",
   "execution_count": 11,
   "id": "2e83f871-37ce-418f-ab6c-437c0ffb880f",
   "metadata": {
    "chartConfig": {
     "bar": {
      "hasRoundedCorners": true,
      "stacked": false
     },
     "title": "What is the average number of Lego parts per year?",
     "type": "bar",
     "version": "v1",
     "x": {
      "field": "year",
      "type": "integer"
     },
     "y": {
      "field": "moving_3_year_average",
      "type": "number"
     }
    },
    "customType": "visualization",
    "dataFrameVariableName": "moving_average_parts",
    "executionTime": 154,
    "initial": false,
    "lastSuccessfullyExecutedCode": ""
   },
   "outputs": [
    {
     "data": {
      "application/com.datacamp.data-table.v1+json": {
       "table": {
        "data": [
         {
          "index": 0,
          "moving_3_year_average": 71,
          "parts_per_year": 71,
          "year": 1950
         },
         {
          "index": 1,
          "moving_3_year_average": 68.5,
          "parts_per_year": 66,
          "year": 1953
         },
         {
          "index": 2,
          "moving_3_year_average": 103.3,
          "parts_per_year": 173,
          "year": 1954
         },
         {
          "index": 3,
          "moving_3_year_average": 423.7,
          "parts_per_year": 1032,
          "year": 1955
         },
         {
          "index": 4,
          "moving_3_year_average": 475.7,
          "parts_per_year": 222,
          "year": 1956
         },
         {
          "index": 5,
          "moving_3_year_average": 716.3,
          "parts_per_year": 895,
          "year": 1957
         },
         {
          "index": 6,
          "moving_3_year_average": 994.7,
          "parts_per_year": 1867,
          "year": 1958
         },
         {
          "index": 7,
          "moving_3_year_average": 942.3,
          "parts_per_year": 65,
          "year": 1959
         },
         {
          "index": 8,
          "moving_3_year_average": 819.3,
          "parts_per_year": 526,
          "year": 1960
         },
         {
          "index": 9,
          "moving_3_year_average": 597,
          "parts_per_year": 1200,
          "year": 1961
         },
         {
          "index": 10,
          "moving_3_year_average": 1665.3,
          "parts_per_year": 3270,
          "year": 1962
         },
         {
          "index": 11,
          "moving_3_year_average": 1690,
          "parts_per_year": 600,
          "year": 1963
         },
         {
          "index": 12,
          "moving_3_year_average": 1593,
          "parts_per_year": 909,
          "year": 1964
         },
         {
          "index": 13,
          "moving_3_year_average": 860,
          "parts_per_year": 1071,
          "year": 1965
         },
         {
          "index": 14,
          "moving_3_year_average": 1865.3,
          "parts_per_year": 3616,
          "year": 1966
         },
         {
          "index": 15,
          "moving_3_year_average": 2252.3,
          "parts_per_year": 2070,
          "year": 1967
         },
         {
          "index": 16,
          "moving_3_year_average": 2955,
          "parts_per_year": 3179,
          "year": 1968
         },
         {
          "index": 17,
          "moving_3_year_average": 3235,
          "parts_per_year": 4456,
          "year": 1969
         },
         {
          "index": 18,
          "moving_3_year_average": 3364.7,
          "parts_per_year": 2459,
          "year": 1970
         },
         {
          "index": 19,
          "moving_3_year_average": 3309.7,
          "parts_per_year": 3014,
          "year": 1971
         },
         {
          "index": 20,
          "moving_3_year_average": 3126.3,
          "parts_per_year": 3906,
          "year": 1972
         },
         {
          "index": 21,
          "moving_3_year_average": 4649.3,
          "parts_per_year": 7028,
          "year": 1973
         },
         {
          "index": 22,
          "moving_3_year_average": 5162.7,
          "parts_per_year": 4554,
          "year": 1974
         },
         {
          "index": 23,
          "moving_3_year_average": 5464.7,
          "parts_per_year": 4812,
          "year": 1975
         },
         {
          "index": 24,
          "moving_3_year_average": 6590.7,
          "parts_per_year": 10406,
          "year": 1976
         },
         {
          "index": 25,
          "moving_3_year_average": 7878.7,
          "parts_per_year": 8418,
          "year": 1977
         },
         {
          "index": 26,
          "moving_3_year_average": 9842.3,
          "parts_per_year": 10703,
          "year": 1978
         },
         {
          "index": 27,
          "moving_3_year_average": 9253.3,
          "parts_per_year": 8639,
          "year": 1979
         },
         {
          "index": 28,
          "moving_3_year_average": 10162,
          "parts_per_year": 11144,
          "year": 1980
         },
         {
          "index": 29,
          "moving_3_year_average": 9030.3,
          "parts_per_year": 7308,
          "year": 1981
         },
         {
          "index": 30,
          "moving_3_year_average": 7907,
          "parts_per_year": 5269,
          "year": 1982
         },
         {
          "index": 31,
          "moving_3_year_average": 6397.7,
          "parts_per_year": 6616,
          "year": 1983
         },
         {
          "index": 32,
          "moving_3_year_average": 6369.3,
          "parts_per_year": 7223,
          "year": 1984
         },
         {
          "index": 33,
          "moving_3_year_average": 10267.3,
          "parts_per_year": 16963,
          "year": 1985
         },
         {
          "index": 34,
          "moving_3_year_average": 12727.7,
          "parts_per_year": 13997,
          "year": 1986
         },
         {
          "index": 35,
          "moving_3_year_average": 15196.7,
          "parts_per_year": 14630,
          "year": 1987
         },
         {
          "index": 36,
          "moving_3_year_average": 12810,
          "parts_per_year": 9803,
          "year": 1988
         },
         {
          "index": 37,
          "moving_3_year_average": 12031.3,
          "parts_per_year": 11661,
          "year": 1989
         },
         {
          "index": 38,
          "moving_3_year_average": 12871,
          "parts_per_year": 17149,
          "year": 1990
         },
         {
          "index": 39,
          "moving_3_year_average": 15468.7,
          "parts_per_year": 17596,
          "year": 1991
         },
         {
          "index": 40,
          "moving_3_year_average": 16166.3,
          "parts_per_year": 13754,
          "year": 1992
         },
         {
          "index": 41,
          "moving_3_year_average": 15941.3,
          "parts_per_year": 16474,
          "year": 1993
         },
         {
          "index": 42,
          "moving_3_year_average": 15521.3,
          "parts_per_year": 16336,
          "year": 1994
         },
         {
          "index": 43,
          "moving_3_year_average": 18575.3,
          "parts_per_year": 22916,
          "year": 1995
         },
         {
          "index": 44,
          "moving_3_year_average": 22760.3,
          "parts_per_year": 29029,
          "year": 1996
         },
         {
          "index": 45,
          "moving_3_year_average": 25671.7,
          "parts_per_year": 25070,
          "year": 1997
         },
         {
          "index": 46,
          "moving_3_year_average": 33321.7,
          "parts_per_year": 45866,
          "year": 1998
         },
         {
          "index": 47,
          "moving_3_year_average": 34204.3,
          "parts_per_year": 31677,
          "year": 1999
         },
         {
          "index": 48,
          "moving_3_year_average": 37223.7,
          "parts_per_year": 34128,
          "year": 2000
         },
         {
          "index": 49,
          "moving_3_year_average": 33728.3,
          "parts_per_year": 35380,
          "year": 2001
         },
         {
          "index": 50,
          "moving_3_year_average": 40408.7,
          "parts_per_year": 51718,
          "year": 2002
         },
         {
          "index": 51,
          "moving_3_year_average": 51121.7,
          "parts_per_year": 66267,
          "year": 2003
         },
         {
          "index": 52,
          "moving_3_year_average": 56499.3,
          "parts_per_year": 51513,
          "year": 2004
         },
         {
          "index": 53,
          "moving_3_year_average": 61117.3,
          "parts_per_year": 65572,
          "year": 2005
         },
         {
          "index": 54,
          "moving_3_year_average": 62313,
          "parts_per_year": 69854,
          "year": 2006
         },
         {
          "index": 55,
          "moving_3_year_average": 69494.7,
          "parts_per_year": 73058,
          "year": 2007
         },
         {
          "index": 56,
          "moving_3_year_average": 74580,
          "parts_per_year": 80828,
          "year": 2008
         },
         {
          "index": 57,
          "moving_3_year_average": 77732.3,
          "parts_per_year": 79311,
          "year": 2009
         },
         {
          "index": 58,
          "moving_3_year_average": 84522.7,
          "parts_per_year": 93429,
          "year": 2010
         },
         {
          "index": 59,
          "moving_3_year_average": 84422,
          "parts_per_year": 80526,
          "year": 2011
         },
         {
          "index": 60,
          "moving_3_year_average": 88687,
          "parts_per_year": 92106,
          "year": 2012
         },
         {
          "index": 61,
          "moving_3_year_average": 93389.7,
          "parts_per_year": 107537,
          "year": 2013
         },
         {
          "index": 62,
          "moving_3_year_average": 106883.3,
          "parts_per_year": 121007,
          "year": 2014
         },
         {
          "index": 63,
          "moving_3_year_average": 120884.7,
          "parts_per_year": 134110,
          "year": 2015
         },
         {
          "index": 64,
          "moving_3_year_average": 135317,
          "parts_per_year": 150834,
          "year": 2016
         },
         {
          "index": 65,
          "moving_3_year_average": 120715.7,
          "parts_per_year": 77203,
          "year": 2017
         }
        ],
        "schema": {
         "fields": [
          {
           "name": "index",
           "type": "integer"
          },
          {
           "name": "year",
           "type": "integer"
          },
          {
           "name": "parts_per_year",
           "type": "integer"
          },
          {
           "name": "moving_3_year_average",
           "type": "number"
          }
         ],
         "pandas_version": "1.4.0",
         "primaryKey": [
          "index"
         ]
        }
       },
       "total_rows": 66,
       "truncation_type": null
      },
      "text/html": [
       "<div>\n",
       "<style scoped>\n",
       "    .dataframe tbody tr th:only-of-type {\n",
       "        vertical-align: middle;\n",
       "    }\n",
       "\n",
       "    .dataframe tbody tr th {\n",
       "        vertical-align: top;\n",
       "    }\n",
       "\n",
       "    .dataframe thead th {\n",
       "        text-align: right;\n",
       "    }\n",
       "</style>\n",
       "<table border=\"1\" class=\"dataframe\">\n",
       "  <thead>\n",
       "    <tr style=\"text-align: right;\">\n",
       "      <th></th>\n",
       "      <th>year</th>\n",
       "      <th>parts_per_year</th>\n",
       "      <th>moving_3_year_average</th>\n",
       "    </tr>\n",
       "  </thead>\n",
       "  <tbody>\n",
       "    <tr>\n",
       "      <th>0</th>\n",
       "      <td>1950</td>\n",
       "      <td>71</td>\n",
       "      <td>71.0</td>\n",
       "    </tr>\n",
       "    <tr>\n",
       "      <th>1</th>\n",
       "      <td>1953</td>\n",
       "      <td>66</td>\n",
       "      <td>68.5</td>\n",
       "    </tr>\n",
       "    <tr>\n",
       "      <th>2</th>\n",
       "      <td>1954</td>\n",
       "      <td>173</td>\n",
       "      <td>103.3</td>\n",
       "    </tr>\n",
       "    <tr>\n",
       "      <th>3</th>\n",
       "      <td>1955</td>\n",
       "      <td>1032</td>\n",
       "      <td>423.7</td>\n",
       "    </tr>\n",
       "    <tr>\n",
       "      <th>4</th>\n",
       "      <td>1956</td>\n",
       "      <td>222</td>\n",
       "      <td>475.7</td>\n",
       "    </tr>\n",
       "    <tr>\n",
       "      <th>...</th>\n",
       "      <td>...</td>\n",
       "      <td>...</td>\n",
       "      <td>...</td>\n",
       "    </tr>\n",
       "    <tr>\n",
       "      <th>61</th>\n",
       "      <td>2013</td>\n",
       "      <td>107537</td>\n",
       "      <td>93389.7</td>\n",
       "    </tr>\n",
       "    <tr>\n",
       "      <th>62</th>\n",
       "      <td>2014</td>\n",
       "      <td>121007</td>\n",
       "      <td>106883.3</td>\n",
       "    </tr>\n",
       "    <tr>\n",
       "      <th>63</th>\n",
       "      <td>2015</td>\n",
       "      <td>134110</td>\n",
       "      <td>120884.7</td>\n",
       "    </tr>\n",
       "    <tr>\n",
       "      <th>64</th>\n",
       "      <td>2016</td>\n",
       "      <td>150834</td>\n",
       "      <td>135317.0</td>\n",
       "    </tr>\n",
       "    <tr>\n",
       "      <th>65</th>\n",
       "      <td>2017</td>\n",
       "      <td>77203</td>\n",
       "      <td>120715.7</td>\n",
       "    </tr>\n",
       "  </tbody>\n",
       "</table>\n",
       "<p>66 rows × 3 columns</p>\n",
       "</div>"
      ],
      "text/plain": [
       "    year  parts_per_year  moving_3_year_average\n",
       "0   1950              71                   71.0\n",
       "1   1953              66                   68.5\n",
       "2   1954             173                  103.3\n",
       "3   1955            1032                  423.7\n",
       "4   1956             222                  475.7\n",
       "..   ...             ...                    ...\n",
       "61  2013          107537                93389.7\n",
       "62  2014          121007               106883.3\n",
       "63  2015          134110               120884.7\n",
       "64  2016          150834               135317.0\n",
       "65  2017           77203               120715.7\n",
       "\n",
       "[66 rows x 3 columns]"
      ]
     },
     "execution_count": 11,
     "metadata": {},
     "output_type": "execute_result"
    }
   ],
   "source": []
  },
  {
   "cell_type": "markdown",
   "id": "78b21718-1912-47ce-ba6a-503bf6237960",
   "metadata": {},
   "source": [
    "## 4. What are the 5 most popular colors used in Lego parts?"
   ]
  },
  {
   "cell_type": "markdown",
   "id": "4399ed1e-75f9-4529-bf67-e334089274d7",
   "metadata": {},
   "source": [
    "To answer this question, we need to perform a series of joins between 'inventory_parts' and 'colors' tables."
   ]
  },
  {
   "cell_type": "code",
   "execution_count": 12,
   "id": "f9d75231-d2e1-4d6b-a9a2-49ecffaa27e1",
   "metadata": {
    "customType": "sql",
    "dataFrameVariableName": "df",
    "executionTime": 1673,
    "initial": false,
    "integrationId": "fe6a1b73-7874-4e69-b6fb-fe69bb8b4667",
    "lastSuccessfullyExecutedCode": "SELECT colors.name AS color, COUNT(inventory_parts.part_num) AS parts\nFROM inventory_parts\nINNER JOIN colors\nON inventory_parts.color_id = colors.id\nGROUP BY colors.name\nORDER BY parts DESC\nLIMIT 5;"
   },
   "outputs": [
    {
     "data": {
      "application/com.datacamp.data-table.v1+json": {
       "table": {
        "data": [
         {
          "color": "Black",
          "index": 0,
          "parts": 115085
         },
         {
          "color": "White",
          "index": 1,
          "parts": 66536
         },
         {
          "color": "Light Bluish Gray",
          "index": 2,
          "parts": 55302
         },
         {
          "color": "Red",
          "index": 3,
          "parts": 50213
         },
         {
          "color": "Dark Bluish Gray",
          "index": 4,
          "parts": 43907
         }
        ],
        "schema": {
         "fields": [
          {
           "name": "index",
           "type": "integer"
          },
          {
           "name": "color",
           "type": "string"
          },
          {
           "name": "parts",
           "type": "integer"
          }
         ],
         "pandas_version": "1.4.0",
         "primaryKey": [
          "index"
         ]
        }
       },
       "total_rows": 5,
       "truncation_type": null
      },
      "text/html": [
       "<div>\n",
       "<style scoped>\n",
       "    .dataframe tbody tr th:only-of-type {\n",
       "        vertical-align: middle;\n",
       "    }\n",
       "\n",
       "    .dataframe tbody tr th {\n",
       "        vertical-align: top;\n",
       "    }\n",
       "\n",
       "    .dataframe thead th {\n",
       "        text-align: right;\n",
       "    }\n",
       "</style>\n",
       "<table border=\"1\" class=\"dataframe\">\n",
       "  <thead>\n",
       "    <tr style=\"text-align: right;\">\n",
       "      <th></th>\n",
       "      <th>color</th>\n",
       "      <th>parts</th>\n",
       "    </tr>\n",
       "  </thead>\n",
       "  <tbody>\n",
       "    <tr>\n",
       "      <th>0</th>\n",
       "      <td>Black</td>\n",
       "      <td>115085</td>\n",
       "    </tr>\n",
       "    <tr>\n",
       "      <th>1</th>\n",
       "      <td>White</td>\n",
       "      <td>66536</td>\n",
       "    </tr>\n",
       "    <tr>\n",
       "      <th>2</th>\n",
       "      <td>Light Bluish Gray</td>\n",
       "      <td>55302</td>\n",
       "    </tr>\n",
       "    <tr>\n",
       "      <th>3</th>\n",
       "      <td>Red</td>\n",
       "      <td>50213</td>\n",
       "    </tr>\n",
       "    <tr>\n",
       "      <th>4</th>\n",
       "      <td>Dark Bluish Gray</td>\n",
       "      <td>43907</td>\n",
       "    </tr>\n",
       "  </tbody>\n",
       "</table>\n",
       "</div>"
      ],
      "text/plain": [
       "               color   parts\n",
       "0              Black  115085\n",
       "1              White   66536\n",
       "2  Light Bluish Gray   55302\n",
       "3                Red   50213\n",
       "4   Dark Bluish Gray   43907"
      ]
     },
     "execution_count": 12,
     "metadata": {},
     "output_type": "execute_result"
    }
   ],
   "source": [
    "SELECT colors.name AS color, COUNT(inventory_parts.part_num) AS parts\n",
    "FROM inventory_parts\n",
    "INNER JOIN colors\n",
    "ON inventory_parts.color_id = colors.id\n",
    "GROUP BY colors.name\n",
    "ORDER BY parts DESC\n",
    "LIMIT 5;"
   ]
  },
  {
   "cell_type": "markdown",
   "id": "ca74b8f8-3f51-4c3c-bcc2-d07148595864",
   "metadata": {},
   "source": [
    "We can observe that dark and gray colors predominate, with a wide advantage on the part of the black color."
   ]
  },
  {
   "cell_type": "markdown",
   "id": "488860c7-6e86-401c-bb85-f67378c52ea4",
   "metadata": {},
   "source": [
    "## 5. What proportion of Lego parts are transparent?"
   ]
  },
  {
   "cell_type": "markdown",
   "id": "e26fb535-9cce-470a-abb2-718e856f4032",
   "metadata": {},
   "source": [
    "First we will generate a selection, then answer the question using python."
   ]
  },
  {
   "cell_type": "code",
   "execution_count": 20,
   "id": "d5f09ce3-5cb2-4b93-a055-20cc0b16f349",
   "metadata": {
    "customType": "sql",
    "dataFrameVariableName": "part_trans",
    "executionTime": 2184,
    "initial": false,
    "integrationId": "fe6a1b73-7874-4e69-b6fb-fe69bb8b4667",
    "lastSuccessfullyExecutedCode": "WITH transparent_parts AS (\n    SELECT COUNT(DISTINCT inventory_parts.part_num) AS transparent_parts\n    FROM inventory_parts\n    INNER JOIN colors \n    ON inventory_parts.color_id = colors.id\n    WHERE colors.is_trans = True),\n    \nall_parts AS (\n    SELECT COUNT(DISTINCT part_num)::float AS all_parts\n    FROM inventory_parts)\n    \nSELECT (transparent_parts/all_parts) AS proportion_transparent_parts\nFROM transparent_parts, all_parts;"
   },
   "outputs": [
    {
     "data": {
      "application/com.datacamp.data-table.v1+json": {
       "table": {
        "data": [
         {
          "index": 0,
          "proportion_transparent_parts": 0.0629488622
         }
        ],
        "schema": {
         "fields": [
          {
           "name": "index",
           "type": "integer"
          },
          {
           "name": "proportion_transparent_parts",
           "type": "number"
          }
         ],
         "pandas_version": "1.4.0",
         "primaryKey": [
          "index"
         ]
        }
       },
       "total_rows": 1,
       "truncation_type": null
      },
      "text/html": [
       "<div>\n",
       "<style scoped>\n",
       "    .dataframe tbody tr th:only-of-type {\n",
       "        vertical-align: middle;\n",
       "    }\n",
       "\n",
       "    .dataframe tbody tr th {\n",
       "        vertical-align: top;\n",
       "    }\n",
       "\n",
       "    .dataframe thead th {\n",
       "        text-align: right;\n",
       "    }\n",
       "</style>\n",
       "<table border=\"1\" class=\"dataframe\">\n",
       "  <thead>\n",
       "    <tr style=\"text-align: right;\">\n",
       "      <th></th>\n",
       "      <th>proportion_transparent_parts</th>\n",
       "    </tr>\n",
       "  </thead>\n",
       "  <tbody>\n",
       "    <tr>\n",
       "      <th>0</th>\n",
       "      <td>0.062949</td>\n",
       "    </tr>\n",
       "  </tbody>\n",
       "</table>\n",
       "</div>"
      ],
      "text/plain": [
       "   proportion_transparent_parts\n",
       "0                      0.062949"
      ]
     },
     "execution_count": 20,
     "metadata": {},
     "output_type": "execute_result"
    }
   ],
   "source": [
    "WITH transparent_parts AS (\n",
    "    SELECT COUNT(DISTINCT inventory_parts.part_num) AS transparent_parts\n",
    "    FROM inventory_parts\n",
    "    INNER JOIN colors \n",
    "    ON inventory_parts.color_id = colors.id\n",
    "    WHERE colors.is_trans = True),\n",
    "    \n",
    "all_parts AS (\n",
    "    SELECT COUNT(DISTINCT part_num)::float AS all_parts\n",
    "    FROM inventory_parts)\n",
    "    \n",
    "SELECT (transparent_parts/all_parts) AS proportion_transparent_parts\n",
    "FROM transparent_parts, all_parts;"
   ]
  },
  {
   "cell_type": "markdown",
   "id": "7f083d8f-8680-4d20-92b3-540f81abaec4",
   "metadata": {},
   "source": [
    "The **proportion of Lego parts that are transparent** is ~6%."
   ]
  },
  {
   "cell_type": "markdown",
   "id": "67aa6bf9-0489-420c-bc0d-7e569f33a8e5",
   "metadata": {},
   "source": [
    "## 6. What are the 5 rarest lego bricks?"
   ]
  },
  {
   "cell_type": "markdown",
   "id": "3332c341-4c4f-4d8f-86bf-739648836dc7",
   "metadata": {},
   "source": [
    "To determine the rarity of a Lego block, I will try to analyze those pieces that are low in inventory. Low inventory is not the only way to classify a part as rare, exotic names being another possible way. But here I must make an assumption."
   ]
  },
  {
   "cell_type": "code",
   "execution_count": 8,
   "id": "9b821627-7cdf-4fa9-9751-dc15cd7c217c",
   "metadata": {
    "customType": "sql",
    "dataFrameVariableName": "df",
    "executionTime": 1698,
    "integrationId": "fe6a1b73-7874-4e69-b6fb-fe69bb8b4667",
    "lastSuccessfullyExecutedCode": "SELECT parts.name, COUNT(DISTINCT inventory_parts.part_num) AS parts\nFROM parts\nINNER JOIN inventory_parts\nUSING (part_num)\nWHERE parts.name LIKE 'Brick%'\nGROUP BY parts.name\nORDER BY parts\nLIMIT 5;"
   },
   "outputs": [
    {
     "data": {
      "application/com.datacamp.data-table.v1+json": {
       "table": {
        "data": [
         {
          "index": 0,
          "name": "Brick 10 x 20 with Bottom Tubes in single row around edge, with '+' Cross Support",
          "parts": 1
         },
         {
          "index": 1,
          "name": "Brick 10 x 20 with Bottom Tubes in single row around edge, with dual '+' Cross Supports",
          "parts": 1
         },
         {
          "index": 2,
          "name": "Brick 10 x 20 without Bottom Tubes, with '+' Cross Support and 4 Side Supports (early Baseplate)",
          "parts": 1
         },
         {
          "index": 3,
          "name": "Brick 10 x 20 without Bottom Tubes, with '+' Cross Support (early Baseplate)",
          "parts": 1
         },
         {
          "index": 4,
          "name": "Brick 10 x 10 without Bottom Tubes, with '+' Cross Support (early Baseplate)",
          "parts": 1
         }
        ],
        "schema": {
         "fields": [
          {
           "name": "index",
           "type": "integer"
          },
          {
           "name": "name",
           "type": "string"
          },
          {
           "name": "parts",
           "type": "integer"
          }
         ],
         "pandas_version": "1.4.0",
         "primaryKey": [
          "index"
         ]
        }
       },
       "total_rows": 5,
       "truncation_type": null
      },
      "text/html": [
       "<div>\n",
       "<style scoped>\n",
       "    .dataframe tbody tr th:only-of-type {\n",
       "        vertical-align: middle;\n",
       "    }\n",
       "\n",
       "    .dataframe tbody tr th {\n",
       "        vertical-align: top;\n",
       "    }\n",
       "\n",
       "    .dataframe thead th {\n",
       "        text-align: right;\n",
       "    }\n",
       "</style>\n",
       "<table border=\"1\" class=\"dataframe\">\n",
       "  <thead>\n",
       "    <tr style=\"text-align: right;\">\n",
       "      <th></th>\n",
       "      <th>name</th>\n",
       "      <th>parts</th>\n",
       "    </tr>\n",
       "  </thead>\n",
       "  <tbody>\n",
       "    <tr>\n",
       "      <th>0</th>\n",
       "      <td>Brick 10 x 20 with Bottom Tubes in single row ...</td>\n",
       "      <td>1</td>\n",
       "    </tr>\n",
       "    <tr>\n",
       "      <th>1</th>\n",
       "      <td>Brick 10 x 20 with Bottom Tubes in single row ...</td>\n",
       "      <td>1</td>\n",
       "    </tr>\n",
       "    <tr>\n",
       "      <th>2</th>\n",
       "      <td>Brick 10 x 20 without Bottom Tubes, with '+' C...</td>\n",
       "      <td>1</td>\n",
       "    </tr>\n",
       "    <tr>\n",
       "      <th>3</th>\n",
       "      <td>Brick 10 x 20 without Bottom Tubes, with '+' C...</td>\n",
       "      <td>1</td>\n",
       "    </tr>\n",
       "    <tr>\n",
       "      <th>4</th>\n",
       "      <td>Brick 10 x 10 without Bottom Tubes, with '+' C...</td>\n",
       "      <td>1</td>\n",
       "    </tr>\n",
       "  </tbody>\n",
       "</table>\n",
       "</div>"
      ],
      "text/plain": [
       "                                                name  parts\n",
       "0  Brick 10 x 20 with Bottom Tubes in single row ...      1\n",
       "1  Brick 10 x 20 with Bottom Tubes in single row ...      1\n",
       "2  Brick 10 x 20 without Bottom Tubes, with '+' C...      1\n",
       "3  Brick 10 x 20 without Bottom Tubes, with '+' C...      1\n",
       "4  Brick 10 x 10 without Bottom Tubes, with '+' C...      1"
      ]
     },
     "execution_count": 8,
     "metadata": {},
     "output_type": "execute_result"
    }
   ],
   "source": [
    "SELECT parts.name, COUNT(DISTINCT inventory_parts.part_num) AS parts\n",
    "FROM parts\n",
    "INNER JOIN inventory_parts\n",
    "USING (part_num)\n",
    "WHERE parts.name LIKE 'Brick%'\n",
    "GROUP BY parts.name\n",
    "ORDER BY parts\n",
    "LIMIT 5;"
   ]
  },
  {
   "cell_type": "markdown",
   "id": "74423a0d-5214-4217-89aa-9c0e00d63986",
   "metadata": {},
   "source": [
    "## 7.     Summarize your findings."
   ]
  },
  {
   "cell_type": "markdown",
   "id": "9be876ef-5ab2-4cc8-952f-154a734be8db",
   "metadata": {},
   "source": [
    "### 1. The average number of sets released per year is 176, considering the entire time period from 1950 to 2017. However, when analyzing the number of sets released per year, we see a strong increase in recent years. Therefore, we have proposed a moving average as an alternative to answer the question posed."
   ]
  },
  {
   "cell_type": "markdown",
   "id": "a719eae9-8753-449d-b81d-2c9dc5175a86",
   "metadata": {},
   "source": [
    "### 2. The average number of parts per year (considering the entire period analyzed) is 28,698. However, by the same reasoning, the calculation of the moving average has also been proposed."
   ]
  },
  {
   "cell_type": "markdown",
   "id": "7a31a5ef-1062-469b-9e82-6d38388bff32",
   "metadata": {},
   "source": [
    "### 4. The most popular colors in this dataset are:\n",
    "- Black;\n",
    "- White;\n",
    "- Light Bluish Gray;\n",
    "- Red; and \n",
    "- Dark Bluish Gray."
   ]
  },
  {
   "cell_type": "markdown",
   "id": "9a90b9c0-dd97-4545-bf04-79d7715ce410",
   "metadata": {},
   "source": [
    "### 5. The proportion of Lego parts that are transparent is ~6%."
   ]
  },
  {
   "cell_type": "markdown",
   "id": "103f896c-f40b-48ab-9a39-8f8619acfe28",
   "metadata": {},
   "source": [
    "### 6. To determine the rarity of a Lego block, I tried to analyze those pieces that were low in inventory. Low inventory was not the only way to classify a part as rare, exotic names being another possible way. But there I had to make an assumption."
   ]
  }
 ],
 "metadata": {
  "editor": "DataCamp Workspace",
  "kernelspec": {
   "display_name": "Python 3",
   "language": "python",
   "name": "python3"
  },
  "language_info": {
   "codemirror_mode": {
    "name": "ipython",
    "version": 3
   },
   "file_extension": ".py",
   "mimetype": "text/x-python",
   "name": "python",
   "nbconvert_exporter": "python",
   "pygments_lexer": "ipython3",
   "version": "3.8.8"
  }
 },
 "nbformat": 4,
 "nbformat_minor": 5
}
