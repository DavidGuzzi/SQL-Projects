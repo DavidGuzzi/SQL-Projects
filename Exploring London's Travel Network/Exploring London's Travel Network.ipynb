{
 "cells": [
  {
   "cell_type": "markdown",
   "id": "b173aef7-9585-439c-bd84-ec6f359ee090",
   "metadata": {},
   "source": [
    "London, or as the Romans called it \"Londonium\"! Home to [over 8.5 million residents](https://www.ons.gov.uk/peoplepopulationandcommunity/populationandmigration/populationestimates/bulletins/populationandhouseholdestimatesenglandandwales/census2021unroundeddata#population-and-household-estimates-england-and-wales-data) who speak over [300 languages](https://web.archive.org/web/20080924084621/http://www.cilt.org.uk/faqs/langspoken.htm). While the City of London is a little over one square mile (hence its nickname \"The Square Mile\"), Greater London has grown to encompass 32 boroughs spanning a total area of 606 square miles! \n",
    "\n",
    "Given the city's roads were originally designed for horse and cart, this area and population growth has required the development of an efficient public transport system! Since the year 2000, this has been through the local government body called **Transport for London**, or *TfL*, which is managed by the London Mayor's office. Their remit covers the London Underground, Overground, Docklands Light Railway (DLR), buses, trams, river services (clipper and [Emirates Airline cable car](https://en.wikipedia.org/wiki/London_cable_car)), roads, and even taxis.\n",
    "\n",
    "The Mayor of London's office make their data available to the public [here](https://data.london.gov.uk/dataset). In this project, you will work with a slightly modified version of a dataset containing information about public transport journey volume by transport type. \n",
    "\n",
    "The data has been loaded into a **Google BigQuery** database called `TFL` with a single table called `JOURNEYS`, including the following data:\n",
    "\n",
    "## TFL.JOURNEYS\n",
    "\n",
    "| Column | Definition | Data type |\n",
    "|--------|------------|-----------|\n",
    "| `MONTH`| Month in number format, e.g., `1` equals January | `INTEGER` |\n",
    "| `YEAR` | Year | `INTEGER` |\n",
    "| `DAYS` | Number of days in the given month | `INTEGER` |\n",
    "| `REPORT_DATE` | Date that the data was reported | `DATE` |\n",
    "| `JOURNEY_TYPE` | Method of transport used | `VARCHAR` |\n",
    "| `JOURNEYS_MILLIONS` | Millions of journeys, measured in decimals | `FLOAT` |\n",
    "\n",
    "Note that the table name is **upper case*** by default.\n",
    "\n",
    "You will execute SQL queries to answer three questions, as listed in the instructions."
   ]
  },
  {
   "cell_type": "code",
   "execution_count": 7,
   "id": "8d9fea80-b22f-4b79-aa93-1fb581d04b12",
   "metadata": {
    "customType": "sql",
    "dataFrameVariableName": "most_popular_transport_types",
    "executionCancelledAt": null,
    "executionTime": 3150,
    "lastExecutedAt": 1690313454118,
    "lastScheduledRunId": null,
    "lastSuccessfullyExecutedCode": "SELECT JOURNEY_TYPE AS journey_type, SUM(JOURNEYS_MILLIONS) AS total_journeys_millions\nFROM TFL.JOURNEYS\nGROUP BY JOURNEY_TYPE\nORDER BY total_journeys_millions DESC;",
    "outputsMetadata": {
     "0": {
      "height": 215,
      "type": "dataFrame"
     }
    },
    "sqlCellMode": "dataFrame",
    "sqlSource": {
     "integrationId": "fcf37a0e-f8bd-4c85-95a5-201d3eebea48",
     "type": "integration"
    }
   },
   "outputs": [
    {
     "@datacamp/metadata": {
      "executedQuery": "SELECT JOURNEY_TYPE AS journey_type, SUM(JOURNEYS_MILLIONS) AS total_journeys_millions\nFROM TFL.JOURNEYS\nGROUP BY JOURNEY_TYPE\nORDER BY total_journeys_millions DESC;",
      "executedQueryParameters": []
     },
     "data": {
      "application/com.datacamp.data-table.v1+json": {
       "table": {
        "data": [
         {
          "index": 0,
          "journey_type": "Bus",
          "total_journeys_millions": 24905.19394699
         },
         {
          "index": 1,
          "journey_type": "Underground & DLR",
          "total_journeys_millions": 15020.466543504
         },
         {
          "index": 2,
          "journey_type": "Overground",
          "total_journeys_millions": 1666.8456664279
         },
         {
          "index": 3,
          "journey_type": "TfL Rail",
          "total_journeys_millions": 411.3134209833
         },
         {
          "index": 4,
          "journey_type": "Tram",
          "total_journeys_millions": 314.6898754821
         },
         {
          "index": 5,
          "journey_type": "Emirates Airline",
          "total_journeys_millions": 14.5837175749
         }
        ],
        "schema": {
         "fields": [
          {
           "name": "index",
           "type": "integer"
          },
          {
           "name": "journey_type",
           "type": "string"
          },
          {
           "name": "total_journeys_millions",
           "type": "number"
          }
         ],
         "pandas_version": "1.4.0",
         "primaryKey": [
          "index"
         ]
        }
       },
       "total_rows": 6,
       "truncation_type": null
      },
      "text/html": [
       "<div>\n",
       "<style scoped>\n",
       "    .dataframe tbody tr th:only-of-type {\n",
       "        vertical-align: middle;\n",
       "    }\n",
       "\n",
       "    .dataframe tbody tr th {\n",
       "        vertical-align: top;\n",
       "    }\n",
       "\n",
       "    .dataframe thead th {\n",
       "        text-align: right;\n",
       "    }\n",
       "</style>\n",
       "<table border=\"1\" class=\"dataframe\">\n",
       "  <thead>\n",
       "    <tr style=\"text-align: right;\">\n",
       "      <th></th>\n",
       "      <th>journey_type</th>\n",
       "      <th>total_journeys_millions</th>\n",
       "    </tr>\n",
       "  </thead>\n",
       "  <tbody>\n",
       "    <tr>\n",
       "      <th>0</th>\n",
       "      <td>Bus</td>\n",
       "      <td>24905.193947</td>\n",
       "    </tr>\n",
       "    <tr>\n",
       "      <th>1</th>\n",
       "      <td>Underground &amp; DLR</td>\n",
       "      <td>15020.466544</td>\n",
       "    </tr>\n",
       "    <tr>\n",
       "      <th>2</th>\n",
       "      <td>Overground</td>\n",
       "      <td>1666.845666</td>\n",
       "    </tr>\n",
       "    <tr>\n",
       "      <th>3</th>\n",
       "      <td>TfL Rail</td>\n",
       "      <td>411.313421</td>\n",
       "    </tr>\n",
       "    <tr>\n",
       "      <th>4</th>\n",
       "      <td>Tram</td>\n",
       "      <td>314.689875</td>\n",
       "    </tr>\n",
       "    <tr>\n",
       "      <th>5</th>\n",
       "      <td>Emirates Airline</td>\n",
       "      <td>14.583718</td>\n",
       "    </tr>\n",
       "  </tbody>\n",
       "</table>\n",
       "</div>"
      ],
      "text/plain": [
       "        journey_type  total_journeys_millions\n",
       "0                Bus             24905.193947\n",
       "1  Underground & DLR             15020.466544\n",
       "2         Overground              1666.845666\n",
       "3           TfL Rail               411.313421\n",
       "4               Tram               314.689875\n",
       "5   Emirates Airline                14.583718"
      ]
     },
     "execution_count": 7,
     "metadata": {},
     "output_type": "execute_result"
    }
   ],
   "source": [
    "SELECT JOURNEY_TYPE AS journey_type, SUM(JOURNEYS_MILLIONS) AS total_journeys_millions\n",
    "FROM TFL.JOURNEYS\n",
    "GROUP BY JOURNEY_TYPE\n",
    "ORDER BY total_journeys_millions DESC;"
   ]
  },
  {
   "cell_type": "code",
   "execution_count": 8,
   "id": "7e021cbb-35c0-4b65-8b63-db04bae2861c",
   "metadata": {
    "customType": "sql",
    "dataFrameVariableName": "emirates_airline_popularity",
    "executionCancelledAt": null,
    "executionTime": 3387,
    "lastExecutedAt": 1690313457505,
    "lastScheduledRunId": null,
    "lastSuccessfullyExecutedCode": "SELECT MONTH AS month, YEAR AS year, ROUND(SUM(JOURNEYS_MILLIONS),2) AS rounded_journeys_millions\nFROM TFL.JOURNEYS\nWHERE JOURNEY_TYPE = 'Emirates Airline' AND ROUND(JOURNEYS_MILLIONS,2) IS NOT NULL\nGROUP BY MONTH, YEAR\nORDER BY rounded_journeys_millions DESC, YEAR\nLIMIT 5;",
    "outputsMetadata": {
     "0": {
      "height": 192,
      "type": "dataFrame"
     }
    },
    "sqlCellMode": "dataFrame",
    "sqlSource": {
     "integrationId": "fcf37a0e-f8bd-4c85-95a5-201d3eebea48",
     "type": "integration"
    }
   },
   "outputs": [
    {
     "@datacamp/metadata": {
      "executedQuery": "SELECT MONTH AS month, YEAR AS year, ROUND(SUM(JOURNEYS_MILLIONS),2) AS rounded_journeys_millions\nFROM TFL.JOURNEYS\nWHERE JOURNEY_TYPE = 'Emirates Airline' AND ROUND(JOURNEYS_MILLIONS,2) IS NOT NULL\nGROUP BY MONTH, YEAR\nORDER BY rounded_journeys_millions DESC, YEAR\nLIMIT 5;",
      "executedQueryParameters": []
     },
     "data": {
      "application/com.datacamp.data-table.v1+json": {
       "table": {
        "data": [
         {
          "index": 0,
          "month": 5,
          "rounded_journeys_millions": 0.53,
          "year": 2012
         },
         {
          "index": 1,
          "month": 6,
          "rounded_journeys_millions": 0.38,
          "year": 2012
         },
         {
          "index": 2,
          "month": 4,
          "rounded_journeys_millions": 0.24,
          "year": 2012
         },
         {
          "index": 3,
          "month": 5,
          "rounded_journeys_millions": 0.19,
          "year": 2013
         },
         {
          "index": 4,
          "month": 5,
          "rounded_journeys_millions": 0.19,
          "year": 2015
         }
        ],
        "schema": {
         "fields": [
          {
           "name": "index",
           "type": "integer"
          },
          {
           "name": "month",
           "type": "integer"
          },
          {
           "name": "year",
           "type": "integer"
          },
          {
           "name": "rounded_journeys_millions",
           "type": "number"
          }
         ],
         "pandas_version": "1.4.0",
         "primaryKey": [
          "index"
         ]
        }
       },
       "total_rows": 5,
       "truncation_type": null
      },
      "text/html": [
       "<div>\n",
       "<style scoped>\n",
       "    .dataframe tbody tr th:only-of-type {\n",
       "        vertical-align: middle;\n",
       "    }\n",
       "\n",
       "    .dataframe tbody tr th {\n",
       "        vertical-align: top;\n",
       "    }\n",
       "\n",
       "    .dataframe thead th {\n",
       "        text-align: right;\n",
       "    }\n",
       "</style>\n",
       "<table border=\"1\" class=\"dataframe\">\n",
       "  <thead>\n",
       "    <tr style=\"text-align: right;\">\n",
       "      <th></th>\n",
       "      <th>month</th>\n",
       "      <th>year</th>\n",
       "      <th>rounded_journeys_millions</th>\n",
       "    </tr>\n",
       "  </thead>\n",
       "  <tbody>\n",
       "    <tr>\n",
       "      <th>0</th>\n",
       "      <td>5</td>\n",
       "      <td>2012</td>\n",
       "      <td>0.53</td>\n",
       "    </tr>\n",
       "    <tr>\n",
       "      <th>1</th>\n",
       "      <td>6</td>\n",
       "      <td>2012</td>\n",
       "      <td>0.38</td>\n",
       "    </tr>\n",
       "    <tr>\n",
       "      <th>2</th>\n",
       "      <td>4</td>\n",
       "      <td>2012</td>\n",
       "      <td>0.24</td>\n",
       "    </tr>\n",
       "    <tr>\n",
       "      <th>3</th>\n",
       "      <td>5</td>\n",
       "      <td>2013</td>\n",
       "      <td>0.19</td>\n",
       "    </tr>\n",
       "    <tr>\n",
       "      <th>4</th>\n",
       "      <td>5</td>\n",
       "      <td>2015</td>\n",
       "      <td>0.19</td>\n",
       "    </tr>\n",
       "  </tbody>\n",
       "</table>\n",
       "</div>"
      ],
      "text/plain": [
       "   month  year  rounded_journeys_millions\n",
       "0      5  2012                       0.53\n",
       "1      6  2012                       0.38\n",
       "2      4  2012                       0.24\n",
       "3      5  2013                       0.19\n",
       "4      5  2015                       0.19"
      ]
     },
     "execution_count": 8,
     "metadata": {},
     "output_type": "execute_result"
    }
   ],
   "source": [
    "SELECT MONTH AS month, YEAR AS year, ROUND(SUM(JOURNEYS_MILLIONS),2) AS rounded_journeys_millions\n",
    "FROM TFL.JOURNEYS\n",
    "WHERE JOURNEY_TYPE = 'Emirates Airline' AND ROUND(JOURNEYS_MILLIONS,2) IS NOT NULL\n",
    "GROUP BY MONTH, YEAR\n",
    "ORDER BY rounded_journeys_millions DESC, YEAR\n",
    "LIMIT 5;"
   ]
  },
  {
   "cell_type": "code",
   "execution_count": 9,
   "id": "ed4c5893-aa2e-469d-99e9-8eb2fc5ccc43",
   "metadata": {
    "customType": "sql",
    "dataFrameVariableName": "least_popular_years_tube",
    "executionCancelledAt": null,
    "executionTime": 2569,
    "lastExecutedAt": 1690313460074,
    "lastScheduledRunId": null,
    "lastSuccessfullyExecutedCode": "SELECT YEAR AS year, JOURNEY_TYPE AS journey_type, SUM(JOURNEYS_MILLIONS) AS total_journeys_millions\nFROM TFL.JOURNEYS\nWHERE JOURNEY_TYPE = 'Underground & DLR'\nGROUP BY YEAR, JOURNEY_TYPE\nORDER BY total_journeys_millions\nLIMIT 5;",
    "outputsMetadata": {
     "0": {
      "height": 191,
      "type": "dataFrame"
     }
    },
    "sqlCellMode": "dataFrame",
    "sqlSource": {
     "integrationId": "fcf37a0e-f8bd-4c85-95a5-201d3eebea48",
     "type": "integration"
    }
   },
   "outputs": [
    {
     "@datacamp/metadata": {
      "executedQuery": "SELECT YEAR AS year, JOURNEY_TYPE AS journey_type, SUM(JOURNEYS_MILLIONS) AS total_journeys_millions\nFROM TFL.JOURNEYS\nWHERE JOURNEY_TYPE = 'Underground & DLR'\nGROUP BY YEAR, JOURNEY_TYPE\nORDER BY total_journeys_millions\nLIMIT 5;",
      "executedQueryParameters": []
     },
     "data": {
      "application/com.datacamp.data-table.v1+json": {
       "table": {
        "data": [
         {
          "index": 0,
          "journey_type": "Underground & DLR",
          "total_journeys_millions": 310.179316314,
          "year": 2020
         },
         {
          "index": 1,
          "journey_type": "Underground & DLR",
          "total_journeys_millions": 748.4525442,
          "year": 2021
         },
         {
          "index": 2,
          "journey_type": "Underground & DLR",
          "total_journeys_millions": 1064.8590086,
          "year": 2022
         },
         {
          "index": 3,
          "journey_type": "Underground & DLR",
          "total_journeys_millions": 1096.14558838,
          "year": 2010
         },
         {
          "index": 4,
          "journey_type": "Underground & DLR",
          "total_journeys_millions": 1156.64765448,
          "year": 2011
         }
        ],
        "schema": {
         "fields": [
          {
           "name": "index",
           "type": "integer"
          },
          {
           "name": "year",
           "type": "integer"
          },
          {
           "name": "journey_type",
           "type": "string"
          },
          {
           "name": "total_journeys_millions",
           "type": "number"
          }
         ],
         "pandas_version": "1.4.0",
         "primaryKey": [
          "index"
         ]
        }
       },
       "total_rows": 5,
       "truncation_type": null
      },
      "text/html": [
       "<div>\n",
       "<style scoped>\n",
       "    .dataframe tbody tr th:only-of-type {\n",
       "        vertical-align: middle;\n",
       "    }\n",
       "\n",
       "    .dataframe tbody tr th {\n",
       "        vertical-align: top;\n",
       "    }\n",
       "\n",
       "    .dataframe thead th {\n",
       "        text-align: right;\n",
       "    }\n",
       "</style>\n",
       "<table border=\"1\" class=\"dataframe\">\n",
       "  <thead>\n",
       "    <tr style=\"text-align: right;\">\n",
       "      <th></th>\n",
       "      <th>year</th>\n",
       "      <th>journey_type</th>\n",
       "      <th>total_journeys_millions</th>\n",
       "    </tr>\n",
       "  </thead>\n",
       "  <tbody>\n",
       "    <tr>\n",
       "      <th>0</th>\n",
       "      <td>2020</td>\n",
       "      <td>Underground &amp; DLR</td>\n",
       "      <td>310.179316</td>\n",
       "    </tr>\n",
       "    <tr>\n",
       "      <th>1</th>\n",
       "      <td>2021</td>\n",
       "      <td>Underground &amp; DLR</td>\n",
       "      <td>748.452544</td>\n",
       "    </tr>\n",
       "    <tr>\n",
       "      <th>2</th>\n",
       "      <td>2022</td>\n",
       "      <td>Underground &amp; DLR</td>\n",
       "      <td>1064.859009</td>\n",
       "    </tr>\n",
       "    <tr>\n",
       "      <th>3</th>\n",
       "      <td>2010</td>\n",
       "      <td>Underground &amp; DLR</td>\n",
       "      <td>1096.145588</td>\n",
       "    </tr>\n",
       "    <tr>\n",
       "      <th>4</th>\n",
       "      <td>2011</td>\n",
       "      <td>Underground &amp; DLR</td>\n",
       "      <td>1156.647654</td>\n",
       "    </tr>\n",
       "  </tbody>\n",
       "</table>\n",
       "</div>"
      ],
      "text/plain": [
       "   year       journey_type  total_journeys_millions\n",
       "0  2020  Underground & DLR               310.179316\n",
       "1  2021  Underground & DLR               748.452544\n",
       "2  2022  Underground & DLR              1064.859009\n",
       "3  2010  Underground & DLR              1096.145588\n",
       "4  2011  Underground & DLR              1156.647654"
      ]
     },
     "execution_count": 9,
     "metadata": {},
     "output_type": "execute_result"
    }
   ],
   "source": [
    "SELECT YEAR AS year, JOURNEY_TYPE AS journey_type, SUM(JOURNEYS_MILLIONS) AS total_journeys_millions\n",
    "FROM TFL.JOURNEYS\n",
    "WHERE JOURNEY_TYPE = 'Underground & DLR'\n",
    "GROUP BY YEAR, JOURNEY_TYPE\n",
    "ORDER BY total_journeys_millions\n",
    "LIMIT 5;"
   ]
  }
 ],
 "metadata": {
  "colab": {
   "name": "Welcome to DataCamp Workspaces.ipynb",
   "provenance": []
  },
  "kernelspec": {
   "display_name": "Python 3",
   "language": "python",
   "name": "python3"
  },
  "language_info": {
   "codemirror_mode": {
    "name": "ipython",
    "version": 3
   },
   "file_extension": ".py",
   "mimetype": "text/x-python",
   "name": "python",
   "nbconvert_exporter": "python",
   "pygments_lexer": "ipython3",
   "version": "3.8.8"
  }
 },
 "nbformat": 4,
 "nbformat_minor": 5
}
